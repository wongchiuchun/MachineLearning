{
 "cells": [
  {
   "cell_type": "markdown",
   "metadata": {},
   "source": [
    "# Creating a Sentiment Analysis Web App\n",
    "## Using PyTorch and SageMaker\n",
    "\n",
    "_Deep Learning Nanodegree Program | Deployment_\n",
    "\n",
    "---\n",
    "\n",
    "Now that we have a basic understanding of how SageMaker works we will try to use it to construct a complete project from end to end. Our goal will be to have a simple web page which a user can use to enter a movie review. The web page will then send the review off to our deployed model which will predict the sentiment of the entered review.\n",
    "\n",
    "## Instructions\n",
    "\n",
    "Some template code has already been provided for you, and you will need to implement additional functionality to successfully complete this notebook. You will not need to modify the included code beyond what is requested. Sections that begin with '**TODO**' in the header indicate that you need to complete or implement some portion within them. Instructions will be provided for each section and the specifics of the implementation are marked in the code block with a `# TODO: ...` comment. Please be sure to read the instructions carefully!\n",
    "\n",
    "In addition to implementing code, there will be questions for you to answer which relate to the task and your implementation. Each section where you will answer a question is preceded by a '**Question:**' header. Carefully read each question and provide your answer below the '**Answer:**' header by editing the Markdown cell.\n",
    "\n",
    "> **Note**: Code and Markdown cells can be executed using the **Shift+Enter** keyboard shortcut. In addition, a cell can be edited by typically clicking it (double-click for Markdown cells) or by pressing **Enter** while it is highlighted.\n",
    "\n",
    "## General Outline\n",
    "\n",
    "Recall the general outline for SageMaker projects using a notebook instance.\n",
    "\n",
    "1. Download or otherwise retrieve the data.\n",
    "2. Process / Prepare the data.\n",
    "3. Upload the processed data to S3.\n",
    "4. Train a chosen model.\n",
    "5. Test the trained model (typically using a batch transform job).\n",
    "6. Deploy the trained model.\n",
    "7. Use the deployed model.\n",
    "\n",
    "For this project, you will be following the steps in the general outline with some modifications. \n",
    "\n",
    "First, you will not be testing the model in its own step. You will still be testing the model, however, you will do it by deploying your model and then using the deployed model by sending the test data to it. One of the reasons for doing this is so that you can make sure that your deployed model is working correctly before moving forward.\n",
    "\n",
    "In addition, you will deploy and use your trained model a second time. In the second iteration you will customize the way that your trained model is deployed by including some of your own code. In addition, your newly deployed model will be used in the sentiment analysis web app."
   ]
  },
  {
   "cell_type": "markdown",
   "metadata": {},
   "source": [
    "## Step 1: Downloading the data\n",
    "\n",
    "As in the XGBoost in SageMaker notebook, we will be using the [IMDb dataset](http://ai.stanford.edu/~amaas/data/sentiment/)\n",
    "\n",
    "> Maas, Andrew L., et al. [Learning Word Vectors for Sentiment Analysis](http://ai.stanford.edu/~amaas/data/sentiment/). In _Proceedings of the 49th Annual Meeting of the Association for Computational Linguistics: Human Language Technologies_. Association for Computational Linguistics, 2011."
   ]
  },
  {
   "cell_type": "code",
   "execution_count": 1,
   "metadata": {},
   "outputs": [
    {
     "name": "stdout",
     "output_type": "stream",
     "text": "mkdir: cannot create directory ‘../data’: File exists\n--2019-12-07 05:00:12--  http://ai.stanford.edu/~amaas/data/sentiment/aclImdb_v1.tar.gz\nResolving ai.stanford.edu (ai.stanford.edu)... 171.64.68.10\nConnecting to ai.stanford.edu (ai.stanford.edu)|171.64.68.10|:80...connected.\nHTTP request sent, awaiting response...200 OK\nLength: 84125825 (80M) [application/x-gzip]\nSaving to: ‘../data/aclImdb_v1.tar.gz’\n\n../data/aclImdb_v1. 100%[===================>]  80.23M  14.7MB/s    in 21s     \n\n2019-12-07 05:00:33 (3.86 MB/s) - ‘../data/aclImdb_v1.tar.gz’ saved [84125825/84125825]\n\n"
    }
   ],
   "source": [
    "%mkdir ../data\n",
    "!wget -O ../data/aclImdb_v1.tar.gz http://ai.stanford.edu/~amaas/data/sentiment/aclImdb_v1.tar.gz\n",
    "!tar -zxf ../data/aclImdb_v1.tar.gz -C ../data"
   ]
  },
  {
   "cell_type": "markdown",
   "metadata": {},
   "source": [
    "## Step 2: Preparing and Processing the data\n",
    "\n",
    "Also, as in the XGBoost notebook, we will be doing some initial data processing. The first few steps are the same as in the XGBoost example. To begin with, we will read in each of the reviews and combine them into a single input structure. Then, we will split the dataset into a training set and a testing set."
   ]
  },
  {
   "cell_type": "code",
   "execution_count": 2,
   "metadata": {},
   "outputs": [],
   "source": [
    "import os\n",
    "import glob\n",
    "\n",
    "def read_imdb_data(data_dir='../data/aclImdb'):\n",
    "    data = {}\n",
    "    labels = {}\n",
    "    \n",
    "    for data_type in ['train', 'test']:\n",
    "        data[data_type] = {}\n",
    "        labels[data_type] = {}\n",
    "        \n",
    "        for sentiment in ['pos', 'neg']:\n",
    "            data[data_type][sentiment] = []\n",
    "            labels[data_type][sentiment] = []\n",
    "            \n",
    "            path = os.path.join(data_dir, data_type, sentiment, '*.txt')\n",
    "            files = glob.glob(path)\n",
    "            \n",
    "            for f in files:\n",
    "                with open(f) as review:\n",
    "                    data[data_type][sentiment].append(review.read())\n",
    "                    # Here we represent a positive review by '1' and a negative review by '0'\n",
    "                    labels[data_type][sentiment].append(1 if sentiment == 'pos' else 0)\n",
    "                    \n",
    "            assert len(data[data_type][sentiment]) == len(labels[data_type][sentiment]), \\\n",
    "                    \"{}/{} data size does not match labels size\".format(data_type, sentiment)\n",
    "                \n",
    "    return data, labels"
   ]
  },
  {
   "cell_type": "code",
   "execution_count": 3,
   "metadata": {},
   "outputs": [
    {
     "name": "stdout",
     "output_type": "stream",
     "text": "IMDB reviews: train = 12500 pos / 12500 neg, test = 12500 pos / 12500 neg\n"
    }
   ],
   "source": [
    "data, labels = read_imdb_data()\n",
    "print(\"IMDB reviews: train = {} pos / {} neg, test = {} pos / {} neg\".format(\n",
    "            len(data['train']['pos']), len(data['train']['neg']),\n",
    "            len(data['test']['pos']), len(data['test']['neg'])))"
   ]
  },
  {
   "cell_type": "markdown",
   "metadata": {},
   "source": [
    "Now that we've read the raw training and testing data from the downloaded dataset, we will combine the positive and negative reviews and shuffle the resulting records."
   ]
  },
  {
   "cell_type": "code",
   "execution_count": 4,
   "metadata": {},
   "outputs": [],
   "source": [
    "from sklearn.utils import shuffle\n",
    "\n",
    "def prepare_imdb_data(data, labels):\n",
    "    \"\"\"Prepare training and test sets from IMDb movie reviews.\"\"\"\n",
    "    \n",
    "    #Combine positive and negative reviews and labels\n",
    "    data_train = data['train']['pos'] + data['train']['neg']\n",
    "    data_test = data['test']['pos'] + data['test']['neg']\n",
    "    labels_train = labels['train']['pos'] + labels['train']['neg']\n",
    "    labels_test = labels['test']['pos'] + labels['test']['neg']\n",
    "    \n",
    "    #Shuffle reviews and corresponding labels within training and test sets\n",
    "    data_train, labels_train = shuffle(data_train, labels_train)\n",
    "    data_test, labels_test = shuffle(data_test, labels_test)\n",
    "    \n",
    "    # Return a unified training data, test data, training labels, test labets\n",
    "    return data_train, data_test, labels_train, labels_test"
   ]
  },
  {
   "cell_type": "code",
   "execution_count": 6,
   "metadata": {},
   "outputs": [
    {
     "name": "stdout",
     "output_type": "stream",
     "text": "IMDb reviews (combined): train = 25000, test = 25000\n"
    }
   ],
   "source": [
    "train_X, test_X, train_y, test_y = prepare_imdb_data(data, labels)\n",
    "print(\"IMDb reviews (combined): train = {}, test = {}\".format(len(train_X), len(test_X)))"
   ]
  },
  {
   "cell_type": "markdown",
   "metadata": {},
   "source": [
    "Now that we have our training and testing sets unified and prepared, we should do a quick check and see an example of the data our model will be trained on. This is generally a good idea as it allows you to see how each of the further processing steps affects the reviews and it also ensures that the data has been loaded correctly."
   ]
  },
  {
   "cell_type": "code",
   "execution_count": 7,
   "metadata": {},
   "outputs": [
    {
     "name": "stdout",
     "output_type": "stream",
     "text": "\"Scoop\" is also the name of a late-Thirties Evelyn Waugh novel, and Woody Allen's new movie, though set today, has a nostalgic charm and simplicity. It hasn't the depth of characterization, intense performances, suspense or shocking final frisson of Allen's penultimate effort \"Match Point,\" (argued by many, including this reviewer, to be a strong return to form) but \"Scoop\" does closely resemble Allen's last outing in its focus on English aristocrats, posh London flats, murder, and detection. This time Woody leaves behind the arriviste murder mystery genre and returns to comedy, and is himself back on the screen as an amiable vaudevillian, a magician called Sid Waterman, stage moniker The Great Splendini, who counters some snobs' probing with, \"I used to be of the Hebrew persuasion, but as I got older, I converted to narcissism.\" Following a revelation in the midst of Splendini's standard dematerializing act, with Scarlett Johansson (as Sondra Pransky) the audience volunteer, the mismatched pair get drawn into a dead ace English journalist's post-mortem attempt to score one last top news story. On the edge of the Styx Joe Strombel (Ian McShane) has just met the shade of one Lord Lyman's son's secretary, who says she was poisoned, and she's told him the charming aristocratic bounder son Peter Lyman (Hugh Jackman) was the Tarot Card murderer, a London serial killer. Sondra and Sid immediately become a pair of amateur sleuths. With Sid's deadpan wit and Sondra's bumptious beauty they cut a quick swath through to the cream of the London aristocracy.<br /><br />Woody isn't pawing his young heroine muse -- as in \"Match Point,\" Johansson again -- as in the past. This time moreover Scarlett's not an ambitious sexpot and would-be movie star. She's morphed surprisingly into a klutzy, bespectacled but still pretty coed. Sid and Sondra have no flirtation, which is a great relief. They simply team up, more or less politely, to carry out Strombel's wishes by befriending Lyman and watching him for clues to his guilt. With only minimal protests Sid consents to appear as Sondra's dad. Sondra, who's captivated Peter by pretending to drown in his club pool, re-christens herself Jade Spence. Mr. Spence, i.e., Woody, keeps breaking cover by doing card tricks, but he amuses dowagers with these and beats their husbands at poker, spewing non-stop one-liners and all the while maintaining, apparently with success, that he's in oil and precious metals, just as \"Jade\" has told him to say.<br /><br />That's about all there is to it, or all that can be told without spoiling the story by revealing its outcome. At first Allen's decision to make Johansson a gauche, naively plainspoken, and badly dressed college girl seems not just unkind but an all-around bad decision. But Johansson, who has pluck and panache as an actress, miraculously manages to carry it off, helped by Jackman, an actor who knows how to make any actress appear desirable, if he desires her. The film actually creates a sense of relationships, to make up for it limited range of characters: Sid and Sondra spar in a friendly way, and Peter and Sondra have a believable attraction even though it's artificial and tainted (she is, after all, going to bed with a suspected homicidal maniac).<br /><br />What palls a bit is Allen's again drooling over English wealth and class, things his Brooklyn background seems to have left him, despite all his celebrity, with a irresistible hankering for. Jackman is an impressive fellow, glamorous and dashing. His parents were English. But could this athletic musical comedy star raised in Australia (\"X-Man's\" Wolverine) really pass as an aristocrat? Only in the movies, perhaps (here and in \"Kate and Leopold\").<br /><br />This isn't as strong a film as \"Match Point,\" but to say it's a loser as some viewers have is quite wrong. It has no more depth than a half-hour radio drama or a TV show, but Woody's jokes are far funnier and more original than you'll get in any such media affair, and sometimes they show a return to the old wit and cleverness. It doesn't matter if a movie is silly or slapdash when it's diverting summer entertainment. On a hot day you don't want a heavy meal. The whole thing deliciously evokes a time when movie comedies were really light escapist entertainment, without crude jokes or bombastic effects; without Vince Vaughan or Owen Wilson. Critics are eager to tell you this is a return to the Allen decline that preceded \"Match Point.\" Don't believe them. He doesn't try too hard. Why should he? He may be 70, but verbally, he's still light on his feet. And his body moves pretty fast too.\n1\n"
    }
   ],
   "source": [
    "print(train_X[100])\n",
    "print(train_y[100])\n"
   ]
  },
  {
   "cell_type": "markdown",
   "metadata": {},
   "source": [
    "The first step in processing the reviews is to make sure that any html tags that appear should be removed. In addition we wish to tokenize our input, that way words such as *entertained* and *entertaining* are considered the same with regard to sentiment analysis."
   ]
  },
  {
   "cell_type": "code",
   "execution_count": 8,
   "metadata": {},
   "outputs": [],
   "source": [
    "import nltk\n",
    "from nltk.corpus import stopwords\n",
    "from nltk.stem.porter import *\n",
    "\n",
    "import re\n",
    "from bs4 import BeautifulSoup\n",
    "\n",
    "def review_to_words(review):\n",
    "    nltk.download(\"stopwords\", quiet=True)\n",
    "    stemmer = PorterStemmer()\n",
    "    \n",
    "    text = BeautifulSoup(review, \"html.parser\").get_text() # Remove HTML tags\n",
    "    text = re.sub(r\"[^a-zA-Z0-9]\", \" \", text.lower()) # Convert to lower case\n",
    "    words = text.split() # Split string into words\n",
    "    words = [w for w in words if w not in stopwords.words(\"english\")] # Remove stopwords\n",
    "    words = [PorterStemmer().stem(w) for w in words] # stem\n",
    "    \n",
    "    return words"
   ]
  },
  {
   "cell_type": "markdown",
   "metadata": {},
   "source": [
    "The `review_to_words` method defined above uses `BeautifulSoup` to remove any html tags that appear and uses the `nltk` package to tokenize the reviews. As a check to ensure we know how everything is working, try applying `review_to_words` to one of the reviews in the training set."
   ]
  },
  {
   "cell_type": "code",
   "execution_count": 9,
   "metadata": {},
   "outputs": [
    {
     "data": {
      "text/plain": "['scoop',\n 'also',\n 'name',\n 'late',\n 'thirti',\n 'evelyn',\n 'waugh',\n 'novel',\n 'woodi',\n 'allen',\n 'new',\n 'movi',\n 'though',\n 'set',\n 'today',\n 'nostalg',\n 'charm',\n 'simplic',\n 'depth',\n 'character',\n 'intens',\n 'perform',\n 'suspens',\n 'shock',\n 'final',\n 'frisson',\n 'allen',\n 'penultim',\n 'effort',\n 'match',\n 'point',\n 'argu',\n 'mani',\n 'includ',\n 'review',\n 'strong',\n 'return',\n 'form',\n 'scoop',\n 'close',\n 'resembl',\n 'allen',\n 'last',\n 'outing',\n 'focu',\n 'english',\n 'aristocrat',\n 'posh',\n 'london',\n 'flat',\n 'murder',\n 'detect',\n 'time',\n 'woodi',\n 'leav',\n 'behind',\n 'arrivist',\n 'murder',\n 'mysteri',\n 'genr',\n 'return',\n 'comedi',\n 'back',\n 'screen',\n 'amiabl',\n 'vaudevillian',\n 'magician',\n 'call',\n 'sid',\n 'waterman',\n 'stage',\n 'monik',\n 'great',\n 'splendini',\n 'counter',\n 'snob',\n 'probe',\n 'use',\n 'hebrew',\n 'persuas',\n 'got',\n 'older',\n 'convert',\n 'narciss',\n 'follow',\n 'revel',\n 'midst',\n 'splendini',\n 'standard',\n 'demateri',\n 'act',\n 'scarlett',\n 'johansson',\n 'sondra',\n 'pranski',\n 'audienc',\n 'volunt',\n 'mismatch',\n 'pair',\n 'get',\n 'drawn',\n 'dead',\n 'ace',\n 'english',\n 'journalist',\n 'post',\n 'mortem',\n 'attempt',\n 'score',\n 'one',\n 'last',\n 'top',\n 'news',\n 'stori',\n 'edg',\n 'styx',\n 'joe',\n 'strombel',\n 'ian',\n 'mcshane',\n 'met',\n 'shade',\n 'one',\n 'lord',\n 'lyman',\n 'son',\n 'secretari',\n 'say',\n 'poison',\n 'told',\n 'charm',\n 'aristocrat',\n 'bounder',\n 'son',\n 'peter',\n 'lyman',\n 'hugh',\n 'jackman',\n 'tarot',\n 'card',\n 'murder',\n 'london',\n 'serial',\n 'killer',\n 'sondra',\n 'sid',\n 'immedi',\n 'becom',\n 'pair',\n 'amateur',\n 'sleuth',\n 'sid',\n 'deadpan',\n 'wit',\n 'sondra',\n 'bumptiou',\n 'beauti',\n 'cut',\n 'quick',\n 'swath',\n 'cream',\n 'london',\n 'aristocraci',\n 'woodi',\n 'paw',\n 'young',\n 'heroin',\n 'muse',\n 'match',\n 'point',\n 'johansson',\n 'past',\n 'time',\n 'moreov',\n 'scarlett',\n 'ambiti',\n 'sexpot',\n 'would',\n 'movi',\n 'star',\n 'morph',\n 'surprisingli',\n 'klutzi',\n 'bespectacl',\n 'still',\n 'pretti',\n 'co',\n 'sid',\n 'sondra',\n 'flirtat',\n 'great',\n 'relief',\n 'simpli',\n 'team',\n 'less',\n 'polit',\n 'carri',\n 'strombel',\n 'wish',\n 'befriend',\n 'lyman',\n 'watch',\n 'clue',\n 'guilt',\n 'minim',\n 'protest',\n 'sid',\n 'consent',\n 'appear',\n 'sondra',\n 'dad',\n 'sondra',\n 'captiv',\n 'peter',\n 'pretend',\n 'drown',\n 'club',\n 'pool',\n 'christen',\n 'jade',\n 'spenc',\n 'mr',\n 'spenc',\n 'e',\n 'woodi',\n 'keep',\n 'break',\n 'cover',\n 'card',\n 'trick',\n 'amus',\n 'dowag',\n 'beat',\n 'husband',\n 'poker',\n 'spew',\n 'non',\n 'stop',\n 'one',\n 'liner',\n 'maintain',\n 'appar',\n 'success',\n 'oil',\n 'preciou',\n 'metal',\n 'jade',\n 'told',\n 'say',\n 'told',\n 'without',\n 'spoil',\n 'stori',\n 'reveal',\n 'outcom',\n 'first',\n 'allen',\n 'decis',\n 'make',\n 'johansson',\n 'gauch',\n 'naiv',\n 'plainspoken',\n 'badli',\n 'dress',\n 'colleg',\n 'girl',\n 'seem',\n 'unkind',\n 'around',\n 'bad',\n 'decis',\n 'johansson',\n 'pluck',\n 'panach',\n 'actress',\n 'miracul',\n 'manag',\n 'carri',\n 'help',\n 'jackman',\n 'actor',\n 'know',\n 'make',\n 'actress',\n 'appear',\n 'desir',\n 'desir',\n 'film',\n 'actual',\n 'creat',\n 'sens',\n 'relationship',\n 'make',\n 'limit',\n 'rang',\n 'charact',\n 'sid',\n 'sondra',\n 'spar',\n 'friendli',\n 'way',\n 'peter',\n 'sondra',\n 'believ',\n 'attract',\n 'even',\n 'though',\n 'artifici',\n 'taint',\n 'go',\n 'bed',\n 'suspect',\n 'homicid',\n 'maniac',\n 'pall',\n 'bit',\n 'allen',\n 'drool',\n 'english',\n 'wealth',\n 'class',\n 'thing',\n 'brooklyn',\n 'background',\n 'seem',\n 'left',\n 'despit',\n 'celebr',\n 'irresist',\n 'hanker',\n 'jackman',\n 'impress',\n 'fellow',\n 'glamor',\n 'dash',\n 'parent',\n 'english',\n 'could',\n 'athlet',\n 'music',\n 'comedi',\n 'star',\n 'rais',\n 'australia',\n 'x',\n 'man',\n 'wolverin',\n 'realli',\n 'pass',\n 'aristocrat',\n 'movi',\n 'perhap',\n 'kate',\n 'leopold',\n 'strong',\n 'film',\n 'match',\n 'point',\n 'say',\n 'loser',\n 'viewer',\n 'quit',\n 'wrong',\n 'depth',\n 'half',\n 'hour',\n 'radio',\n 'drama',\n 'tv',\n 'show',\n 'woodi',\n 'joke',\n 'far',\n 'funnier',\n 'origin',\n 'get',\n 'media',\n 'affair',\n 'sometim',\n 'show',\n 'return',\n 'old',\n 'wit',\n 'clever',\n 'matter',\n 'movi',\n 'silli',\n 'slapdash',\n 'divert',\n 'summer',\n 'entertain',\n 'hot',\n 'day',\n 'want',\n 'heavi',\n 'meal',\n 'whole',\n 'thing',\n 'delici',\n 'evok',\n 'time',\n 'movi',\n 'comedi',\n 'realli',\n 'light',\n 'escapist',\n 'entertain',\n 'without',\n 'crude',\n 'joke',\n 'bombast',\n 'effect',\n 'without',\n 'vinc',\n 'vaughan',\n 'owen',\n 'wilson',\n 'critic',\n 'eager',\n 'tell',\n 'return',\n 'allen',\n 'declin',\n 'preced',\n 'match',\n 'point',\n 'believ',\n 'tri',\n 'hard',\n 'may',\n '70',\n 'verbal',\n 'still',\n 'light',\n 'feet',\n 'bodi',\n 'move',\n 'pretti',\n 'fast']"
     },
     "execution_count": 9,
     "metadata": {},
     "output_type": "execute_result"
    }
   ],
   "source": [
    "# TODO: Apply review_to_words to a review (train_X[100] or any other review)\n",
    "review_to_words(train_X[100])"
   ]
  },
  {
   "cell_type": "markdown",
   "metadata": {},
   "source": [
    "**Question:** Above we mentioned that `review_to_words` method removes html formatting and allows us to tokenize the words found in a review, for example, converting *entertained* and *entertaining* into *entertain* so that they are treated as though they are the same word. What else, if anything, does this method do to the input?"
   ]
  },
  {
   "cell_type": "markdown",
   "metadata": {},
   "source": [
    "**Answer: The method mainly reduces the cost of training at the later stage by compressing information. In addition to the description above the method also removes special symbols and convert all letters to lowercase. This helps reduce information cost as they do not carry useful information related to sentiment. The method also removes stopwords (i.e. words like \"I\", \"We\" which again does not contain much information about sentiment)**"
   ]
  },
  {
   "cell_type": "markdown",
   "metadata": {},
   "source": [
    "The method below applies the `review_to_words` method to each of the reviews in the training and testing datasets. In addition it caches the results. This is because performing this processing step can take a long time. This way if you are unable to complete the notebook in the current session, you can come back without needing to process the data a second time."
   ]
  },
  {
   "cell_type": "code",
   "execution_count": 10,
   "metadata": {},
   "outputs": [],
   "source": [
    "import pickle\n",
    "\n",
    "cache_dir = os.path.join(\"../cache\", \"sentiment_analysis\")  # where to store cache files\n",
    "os.makedirs(cache_dir, exist_ok=True)  # ensure cache directory exists\n",
    "\n",
    "def preprocess_data(data_train, data_test, labels_train, labels_test,\n",
    "                    cache_dir=cache_dir, cache_file=\"preprocessed_data.pkl\"):\n",
    "    \"\"\"Convert each review to words; read from cache if available.\"\"\"\n",
    "\n",
    "    # If cache_file is not None, try to read from it first\n",
    "    cache_data = None\n",
    "    if cache_file is not None:\n",
    "        try:\n",
    "            with open(os.path.join(cache_dir, cache_file), \"rb\") as f:\n",
    "                cache_data = pickle.load(f)\n",
    "            print(\"Read preprocessed data from cache file:\", cache_file)\n",
    "        except:\n",
    "            pass  # unable to read from cache, but that's okay\n",
    "    \n",
    "    # If cache is missing, then do the heavy lifting\n",
    "    if cache_data is None:\n",
    "        # Preprocess training and test data to obtain words for each review\n",
    "        #words_train = list(map(review_to_words, data_train))\n",
    "        #words_test = list(map(review_to_words, data_test))\n",
    "        words_train = [review_to_words(review) for review in data_train]\n",
    "        words_test = [review_to_words(review) for review in data_test]\n",
    "        \n",
    "        # Write to cache file for future runs\n",
    "        if cache_file is not None:\n",
    "            cache_data = dict(words_train=words_train, words_test=words_test,\n",
    "                              labels_train=labels_train, labels_test=labels_test)\n",
    "            with open(os.path.join(cache_dir, cache_file), \"wb\") as f:\n",
    "                pickle.dump(cache_data, f)\n",
    "            print(\"Wrote preprocessed data to cache file:\", cache_file)\n",
    "    else:\n",
    "        # Unpack data loaded from cache file\n",
    "        words_train, words_test, labels_train, labels_test = (cache_data['words_train'],\n",
    "                cache_data['words_test'], cache_data['labels_train'], cache_data['labels_test'])\n",
    "    \n",
    "    return words_train, words_test, labels_train, labels_test"
   ]
  },
  {
   "cell_type": "code",
   "execution_count": 11,
   "metadata": {},
   "outputs": [
    {
     "name": "stdout",
     "output_type": "stream",
     "text": "Read preprocessed data from cache file: preprocessed_data.pkl\n"
    }
   ],
   "source": [
    "# Preprocess data\n",
    "train_X, test_X, train_y, test_y = preprocess_data(train_X, test_X, train_y, test_y)"
   ]
  },
  {
   "cell_type": "markdown",
   "metadata": {},
   "source": [
    "## Transform the data\n",
    "\n",
    "In the XGBoost notebook we transformed the data from its word representation to a bag-of-words feature representation. For the model we are going to construct in this notebook we will construct a feature representation which is very similar. To start, we will represent each word as an integer. Of course, some of the words that appear in the reviews occur very infrequently and so likely don't contain much information for the purposes of sentiment analysis. The way we will deal with this problem is that we will fix the size of our working vocabulary and we will only include the words that appear most frequently. We will then combine all of the infrequent words into a single category and, in our case, we will label it as `1`.\n",
    "\n",
    "Since we will be using a recurrent neural network, it will be convenient if the length of each review is the same. To do this, we will fix a size for our reviews and then pad short reviews with the category 'no word' (which we will label `0`) and truncate long reviews."
   ]
  },
  {
   "cell_type": "markdown",
   "metadata": {},
   "source": [
    "### (TODO) Create a word dictionary\n",
    "\n",
    "To begin with, we need to construct a way to map words that appear in the reviews to integers. Here we fix the size of our vocabulary (including the 'no word' and 'infrequent' categories) to be `5000` but you may wish to change this to see how it affects the model.\n",
    "\n",
    "> **TODO:** Complete the implementation for the `build_dict()` method below. Note that even though the vocab_size is set to `5000`, we only want to construct a mapping for the most frequently appearing `4998` words. This is because we want to reserve the special labels `0` for 'no word' and `1` for 'infrequent word'."
   ]
  },
  {
   "cell_type": "code",
   "execution_count": 12,
   "metadata": {},
   "outputs": [],
   "source": [
    "import numpy as np\n",
    "from collections import Counter\n",
    "import collections\n",
    "\n",
    "def build_dict(data, vocab_size = 5000):\n",
    "    \"\"\"Construct and return a dictionary mapping each of the most frequently appearing words to a unique integer.\"\"\"\n",
    "    \n",
    "    # TODO: Determine how often each word appears in `data`. Note that `data` is a list of sentences and that a\n",
    "    #       sentence is a list of words.\n",
    "\n",
    "    #using Counter() to count the words \n",
    "    counts = Counter()\n",
    "\n",
    "    #Iterate through the whole data set review by review\n",
    "    for review in data:\n",
    "        for word in review:                                    \n",
    "            counts[word] += 1\n",
    "    \n",
    "\n",
    "    #transform the result into a dictionary    \n",
    "    word_count = dict(counts)\n",
    "    \n",
    "    # TODO: Sort the words found in `data` so that sorted_words[0] is the most frequently appearing word and\n",
    "    #       sorted_words[-1] is the least frequently appearing word.\n",
    "    \n",
    "    #sort the dictionary by the frequency of its apperance. A dict storing the words that appear in the reviews along with how often they occur\n",
    "    sorted_words = sorted(word_count.items(), key=lambda kv: kv[1], reverse=True)\n",
    "\n",
    "    wlist = []\n",
    "\n",
    "    #convert to list\n",
    "    for word in sorted_words:\n",
    "        wlist.append(word[0])\n",
    "\n",
    "    word_dict = {} # This is what we are building, a dictionary that translates words into integers\n",
    "    for idx, word in enumerate(wlist[:vocab_size - 2]): # The -2 is so that we save room for the 'no word' \n",
    "        word_dict[word] = idx + 2                              # 'infrequent' labels\n",
    "        \n",
    "    return(word_dict)\n",
    "   "
   ]
  },
  {
   "cell_type": "code",
   "execution_count": 13,
   "metadata": {},
   "outputs": [
    {
     "name": "stdout",
     "output_type": "stream",
     "text": "'tooth': 3737, 'champion': 3738, 'taught': 3739, 'programm': 3740, 'pervers': 3741, 'heal': 3742, 'unpredict': 3743, '1983': 3744, 'pervert': 3745, 'dazzl': 3746, 'arguabl': 3747, 'melodi': 3748, 'paltrow': 3749, 'tackl': 3750, 'pursuit': 3751, 'preach': 3752, 'belt': 3753, 'stilt': 3754, 'arc': 3755, 'bela': 3756, 'graham': 3757, 'duval': 3758, 'rubi': 3759, 'vengeanc': 3760, 'virginia': 3761, 'poem': 3762, 'plight': 3763, 'orang': 3764, 'conneri': 3765, 'maid': 3766, 'employe': 3767, 'mesmer': 3768, 'uplift': 3769, 'raymond': 3770, 'chicken': 3771, 'sensat': 3772, 'franki': 3773, 'dixon': 3774, 'closest': 3775, 'tiresom': 3776, 'vocal': 3777, 'passeng': 3778, 'marti': 3779, 'cleverli': 3780, 'gambl': 3781, 'extens': 3782, 'convincingli': 3783, 'habit': 3784, 'quarter': 3785, 'iran': 3786, 'whine': 3787, 'volum': 3788, 'sirk': 3789, 'swallow': 3790, 'bay': 3791, 'climact': 3792, 'mute': 3793, 'secretli': 3794, 'outing': 3795, 'yawn': 3796, '1968': 3797, 'lundgren': 3798, 'abraham': 3799, 'engross': 3800, 'numb': 3801, 'tube': 3802, 'inject': 3803, 'monologu': 3804, 'profan': 3805, 'suffic': 3806, 'amitabh': 3807, 'gerard': 3808, 'giggl': 3809, 'scottish': 3810, 'calm': 3811, 'paranoia': 3812, 'pokemon': 3813, 'crystal': 3814, 'clone': 3815, 'meander': 3816, 'abort': 3817, 'poetri': 3818, 'chicago': 3819, 'backward': 3820, 'surpass': 3821, 'franci': 3822, 'bend': 3823, 'profess': 3824, 'frankenstein': 3825, 'septemb': 3826, 'junior': 3827, 'plod': 3828, 'taxi': 3829, 'spock': 3830, 'trend': 3831, 'nichola': 3832, 'im': 3833, 'dispos': 3834, 'austen': 3835, 'expand': 3836, 'ethan': 3837, 'fed': 3838, 'underst': 3839, 'lowest': 3840, 'grotesqu': 3841, 'richardson': 3842, 'linger': 3843, 'earl': 3844, 'econom': 3845, 'rubber': 3846, 'instrument': 3847, 'hum': 3848, 'dysfunct': 3849, 'literatur': 3850, 'rant': 3851, 'sue': 3852, 'waitress': 3853, 'mundan': 3854, 'nostalgia': 3855, 'compliment': 3856, 'eugen': 3857, 'catchi': 3858, 'tourist': 3859, 'greedi': 3860, 'simplic': 3861, 'household': 3862, 'myth': 3863, 'muddl': 3864, 'spoke': 3865, 'descent': 3866, 'der': 3867, 'stallon': 3868, 'lure': 3869, 'cannon': 3870, 'occupi': 3871, 'stale': 3872, 'mortal': 3873, 'eaten': 3874, 'insur': 3875, 'hello': 3876, 'phoni': 3877, 'bacal': 3878, 'flee': 3879, 'lang': 3880, 'coast': 3881, 'irrelev': 3882, 'damon': 3883, 'june': 3884, 'sissi': 3885, 'randi': 3886, 'phantom': 3887, 'cent': 3888, 'furi': 3889, 'dement': 3890, 'recognis': 3891, 'alongsid': 3892, 'carel': 3893, 'map': 3894, 'firstli': 3895, 'recognit': 3896, 'equival': 3897, 'dictat': 3898, 'crucial': 3899, 'molli': 3900, 'omen': 3901, 'mankind': 3902, 'duck': 3903, 'deaf': 3904, 'louis': 3905, 'labor': 3906, 'rude': 3907, 'grayson': 3908, 'distinguish': 3909, 'cyborg': 3910, 'ashley': 3911, 'heel': 3912, 'likewis': 3913, 'blackmail': 3914, 'biko': 3915, 'antwon': 3916, 'lengthi': 3917, 'reign': 3918, 'onlin': 3919, 'bike': 3920, 'dreari': 3921, 'bump': 3922, 'newli': 3923, 'loyalti': 3924, 'twilight': 3925, 'damm': 3926, 'wisdom': 3927, '1973': 3928, 'freez': 3929, 'rooney': 3930, 'drake': 3931, 'buffalo': 3932, 'daisi': 3933, 'exposur': 3934, 'attribut': 3935, 'incorpor': 3936, 'approv': 3937, 'tunnel': 3938, 'proce': 3939, 'provoc': 3940, 'sailor': 3941, 'barrymor': 3942, 'worn': 3943, 'nineti': 3944, 'boxer': 3945, 'vein': 3946, 'ridden': 3947, 'baddi': 3948, 'basketbal': 3949, 'inher': 3950, 'pink': 3951, 'emphas': 3952, 'analysi': 3953, 'prey': 3954, 'interior': 3955, 'keith': 3956, 'startl': 3957, 'butler': 3958, 'chronicl': 3959, 'unorigin': 3960, 'barrel': 3961, 'meg': 3962, 'elm': 3963, 'millionair': 3964, 'belushi': 3965, 'simmon': 3966, 'fleet': 3967, 'undeni': 3968, 'improvis': 3969, 'nicol': 3970, 'drift': 3971, 'indiffer': 3972, 'condemn': 3973, 'bunni': 3974, 'hypnot': 3975, 'degrad': 3976, 'stalker': 3977, 'predat': 3978, 'underli': 3979, 'walsh': 3980, 'er': 3981, 'mighti': 3982, 'othello': 3983, 'substitut': 3984, 'mormon': 3985, 'julian': 3986, 'robbin': 3987, 'unrel': 3988, 'meyer': 3989, 'carla': 3990, 'alison': 3991, 'watson': 3992, 'vital': 3993, 'novak': 3994, '3d': 3995, 'marion': 3996, 'exquisit': 3997, 'hay': 3998, 'mtv': 3999, 'nyc': 4000, 'dolph': 4001, 'alarm': 4002, 'disord': 4003, 'greed': 4004, 'enthusiasm': 4005, 'roof': 4006, 'warmth': 4007, 'unawar': 4008, 'lampoon': 4009, 'rukh': 4010, 'agenda': 4011, 'priceless': 4012, 'edgi': 4013, 'palac': 4014, 'errol': 4015, 'firm': 4016, 'reid': 4017, 'shove': 4018, 'angela': 4019, 'randomli': 4020, '13th': 4021, 'drip': 4022, 'spain': 4023, 'session': 4024, 'testament': 4025, 'pamela': 4026, 'simultan': 4027, 'minimum': 4028, 'beatl': 4029, 'campaign': 4030, 'crown': 4031, 'petti': 4032, 'preserv': 4033, 'what': 4034, 'distort': 4035, 'championship': 4036, 'sergeant': 4037, 'iraq': 4038, 'orlean': 4039, 'ponder': 4040, 'coup': 4041, 'gestur': 4042, 'thompson': 4043, 'unleash': 4044, 'cassidi': 4045, 'peril': 4046, 'profit': 4047, '1933': 4048, 'showdown': 4049, 'peck': 4050, 'eastern': 4051, 'valentin': 4052, 'nun': 4053, 'zizek': 4054, 'israel': 4055, 'glanc': 4056, 'bro': 4057, 'rout': 4058, 'unimagin': 4059, 'wig': 4060, 'sabrina': 4061, 'crawl': 4062, 'cream': 4063, 'kurosawa': 4064, 'jan': 4065, 'stroke': 4066, 'represent': 4067, 'realm': 4068, 'gentleman': 4069, 'restrain': 4070, 'reson': 4071, 'regist': 4072, 'exposit': 4073, 'buster': 4074, 'brenda': 4075, 'climat': 4076, 'calib': 4077, 'empathi': 4078, 'miyazaki': 4079, 'valley': 4080, 'travesti': 4081, 'contradict': 4082, 'fido': 4083, 'shootout': 4084, 'perpetu': 4085, 'mon': 4086, 'crow': 4087, '1984': 4088, 'cooki': 4089, 'stake': 4090, 'scotland': 4091, 'din': 4092, 'quinn': 4093, 'han': 4094, 'pole': 4095, 'pretens': 4096, 'shaki': 4097, 'soderbergh': 4098, 'baldwin': 4099, 'painter': 4100, 'meryl': 4101, 'traumat': 4102, 'sammi': 4103, 'passabl': 4104, 'wax': 4105, 'censor': 4106, 'sucker': 4107, '1987': 4108, 'geek': 4109, 'distress': 4110, 'absent': 4111, 'compromis': 4112, 'monoton': 4113, '1997': 4114, 'shoddi': 4115, 'delic': 4116, 'perceiv': 4117, 'stargat': 4118, 'unsatisfi': 4119, 'derang': 4120, 'tacki': 4121, 'dana': 4122, 'ross': 4123, 'mclaglen': 4124, 'businessman': 4125, 'crawford': 4126, 'darren': 4127, 'abomin': 4128, 'femm': 4129, 'ustinov': 4130, 'demis': 4131, 'greg': 4132, 'unseen': 4133, 'cloud': 4134, 'spacey': 4135, 'warrant': 4136, 'josh': 4137, 'fuller': 4138, 'judgment': 4139, 'valid': 4140, 'seal': 4141, 'anchor': 4142, 'verbal': 4143, 'dee': 4144, 'uncov': 4145, 'sid': 4146, 'deceas': 4147, 'fenc': 4148, 'primit': 4149, 'wholli': 4150, 'expedit': 4151, 'unravel': 4152, 'correctli': 4153, '1993': 4154, 'furiou': 4155, 'tech': 4156, 'fog': 4157, 'accuraci': 4158, 'norm': 4159, 'tarantino': 4160, 'austin': 4161, 'polici': 4162, 'jewel': 4163, 'click': 4164, 'clash': 4165, 'nathan': 4166, 'exclus': 4167, 'reluct': 4168, 'deniro': 4169, 'antonioni': 4170, 'kumar': 4171, 'enforc': 4172, 'unfair': 4173, '2008': 4174, 'alec': 4175, 'murray': 4176, 'conduct': 4177, 'sustain': 4178, 'debt': 4179, 'trait': 4180, 'slam': 4181, 'malon': 4182, 'vanc': 4183, 'wretch': 4184, 'crippl': 4185, 'fought': 4186, 'behold': 4187, 'clerk': 4188, 'sand': 4189, 'tax': 4190, '1971': 4191, 'bake': 4192, 'fart': 4193, 'dreck': 4194, 'temper': 4195, 'pocket': 4196, 'sunni': 4197, 'shanghai': 4198, 'patienc': 4199, 'nicola': 4200, 'hallucin': 4201, 'fabric': 4202, 'darn': 4203, 'wang': 4204, '3000': 4205, 'ritual': 4206, 'logan': 4207, 'roller': 4208, '1995': 4209, 'joel': 4210, 'sheet': 4211, 'seldom': 4212, 'mode': 4213, 'grief': 4214, 'squad': 4215, 'conscious': 4216, 'outlin': 4217, 'technicolor': 4218, 'legaci': 4219, 'fundament': 4220, 'helpless': 4221, 'phil': 4222, 'preston': 4223, 'sweep': 4224, 'schedul': 4225, 'clau': 4226, 'shell': 4227, 'soup': 4228, 'critiqu': 4229, 'scriptwrit': 4230, 'runner': 4231, 'penni': 4232, 'isabel': 4233, 'stark': 4234, 'exhaust': 4235, 'pete': 4236, 'guitar': 4237, 'rita': 4238, 'preposter': 4239, 'divid': 4240, 'despis': 4241, 'stuart': 4242, 'canyon': 4243, 'tactic': 4244, 'bias': 4245, 'robber': 4246, 'bridget': 4247, 'liberti': 4248, 'downey': 4249, 'drove': 4250, 'vomit': 4251, 'cigarett': 4252, 'jacket': 4253, 'bloom': 4254, 'rehash': 4255, 'consciou': 4256, 'agenc': 4257, 'palanc': 4258, 'alicia': 4259, 'flair': 4260, 'propos': 4261, 'invad': 4262, 'marc': 4263, 'passag': 4264, 'rear': 4265, 'unexpectedli': 4266, 'culmin': 4267, 'newman': 4268, 'connor': 4269, 'kansa': 4270, 'restrict': 4271, 'jodi': 4272, 'russia': 4273, 'boyl': 4274, 'gregori': 4275, 'sugar': 4276, 'sniper': 4277, 'lacklust': 4278, 'implic': 4279, 'alley': 4280, 'delv': 4281, 'inabl': 4282, 'sentinel': 4283, 'lush': 4284, 'improb': 4285, '22': 4286, 'asylum': 4287, 'karl': 4288, 'awhil': 4289, 'arrow': 4290, 'aesthet': 4291, 'tendenc': 4292, 'wrench': 4293, 'behaviour': 4294, 'delet': 4295, 'horn': 4296, 'mccoy': 4297, 'vet': 4298, '1936': 4299, 'ladder': 4300, 'feat': 4301, 'rehears': 4302, 'chainsaw': 4303, 'yeti': 4304, 'rampag': 4305, 'tripe': 4306, 'sharon': 4307, 'kolchak': 4308, 'rod': 4309, 'bacon': 4310, 'foxx': 4311, 'pale': 4312, 'cap': 4313, 'fright': 4314, 'aristocrat': 4315, 'tomorrow': 4316, 'tasteless': 4317, 'hulk': 4318, 'wildli': 4319, 'underneath': 4320, 'suspicion': 4321, 'suffici': 4322, 'sung': 4323, 'rhythm': 4324, 'hungri': 4325, 'prank': 4326, '19th': 4327, 'weav': 4328, 'lurk': 4329, 'wagner': 4330, 'rumor': 4331, '1920': 4332, 'hackney': 4333, 'paradis': 4334, 'financ': 4335, 'newcom': 4336, 'spice': 4337, 'elit': 4338, 'minu': 4339, 'el': 4340, '1978': 4341, 'loneli': 4342, 'shortcom': 4343, 'basing': 4344, 'scoop': 4345, 'conscienc': 4346, '1988': 4347, 'amazon': 4348, 'stream': 4349, 'coaster': 4350, 'paramount': 4351, 'filler': 4352, 'globe': 4353, 'visitor': 4354, 'thunderbird': 4355, 'secondari': 4356, '1939': 4357, 'straightforward': 4358, '75': 4359, 'iv': 4360, 'brit': 4361, 'abrupt': 4362, 'ingeni': 4363, 'paxton': 4364, 'rub': 4365, 'impos': 4366, '1989': 4367, 'heist': 4368, 'recogniz': 4369, 'minist': 4370, 'choppi': 4371, 'counterpart': 4372, 'literari': 4373, 'curli': 4374, 'cancer': 4375, 'inmat': 4376, 'immers': 4377, 'penn': 4378, 'standout': 4379, 'hopkin': 4380, 'beverli': 4381, 'bread': 4382, 'worship': 4383, 'lectur': 4384, 'tierney': 4385, 'smell': 4386, 'naughti': 4387, 'atroc': 4388, 'grudg': 4389, 'ram': 4390, 'teas': 4391, 'chavez': 4392, 'en': 4393, 'dirt': 4394, 'leigh': 4395, 'chamberlain': 4396, 'quietli': 4397, 'couch': 4398, 'entranc': 4399, 'wwe': 4400, 'springer': 4401, 'posey': 4402, 'bernard': 4403, 'variat': 4404, 'convert': 4405, 'watcher': 4406, 'moreov': 4407, 'entitl': 4408, 'skeptic': 4409, 'laurenc': 4410, 'misguid': 4411, 'esther': 4412, 'cattl': 4413, 'geni': 4414, 'duel': 4415, 'net': 4416, 'injuri': 4417, 'ace': 4418, 'attenborough': 4419, 'transcend': 4420, 'missil': 4421, 'nolan': 4422, 'lindsay': 4423, 'yearn': 4424, 'policeman': 4425, 'quaid': 4426, 'heartfelt': 4427, 'nemesi': 4428, '1986': 4429, 'morbid': 4430, 'sublim': 4431, 'clan': 4432, 'enthral': 4433, 'ratso': 4434, 'sassi': 4435, 'tyler': 4436, 'graini': 4437, 'reliabl': 4438, 'enabl': 4439, 'diari': 4440, 'characteris': 4441, 'out': 4442, 'brood': 4443, 'spiral': 4444, 'cruelti': 4445, 'grin': 4446, 'puppi': 4447, 'steadi': 4448, 'youngest': 4449, 'bean': 4450, 'egg': 4451, 'artsi': 4452, 'kidman': 4453, 'hopelessli': 4454, 'setup': 4455, 'facil': 4456, 'carlito': 4457, 'rosemari': 4458, 'bye': 4459, 'moder': 4460, 'buzz': 4461, 'hk': 4462, 'dont': 4463, '1979': 4464, 'uncut': 4465, 'poe': 4466, 'unexplain': 4467, 'obstacl': 4468, 'kitti': 4469, 'mytholog': 4470, 'vader': 4471, 'gillian': 4472, 'hammi': 4473, 'underworld': 4474, 'oblig': 4475, 'bounc': 4476, 'heap': 4477, 'baffl': 4478, 'patricia': 4479, 'christin': 4480, 'clueless': 4481, 'gina': 4482, 'niec': 4483, 'kline': 4484, 'hain': 4485, 'martha': 4486, 'sweat': 4487, 'spontan': 4488, 'weather': 4489, 'despic': 4490, 'effici': 4491, 'narrow': 4492, 'athlet': 4493, 'fuel': 4494, 'disastr': 4495, 'preming': 4496, '1969': 4497, 'decept': 4498, 'acquaint': 4499, 'brendan': 4500, 'bronson': 4501, 'bewar': 4502, 'exterior': 4503, 'shatter': 4504, 'candl': 4505, 'enlist': 4506, 'injur': 4507, 'viewpoint': 4508, 'insipid': 4509, 'scar': 4510, '19': 4511, 'dilemma': 4512, 'rome': 4513, 'tick': 4514, 'loath': 4515, 'biker': 4516, 'loi': 4517, 'mayhem': 4518, 'harmless': 4519, 'uh': 4520, 'lester': 4521, 'angst': 4522, 'hepburn': 4523, 'astound': 4524, 'fontain': 4525, 'trigger': 4526, 'preachi': 4527, 'circu': 4528, 'goof': 4529, 'headach': 4530, 'dandi': 4531, 'renaiss': 4532, 'outlaw': 4533, 'sleepwalk': 4534, 'taboo': 4535, 'analyz': 4536, '73': 4537, 'suprem': 4538, 'sooner': 4539, 'virtu': 4540, 'housewif': 4541, 'mermaid': 4542, 'amor': 4543, 'spade': 4544, 'dish': 4545, 'gere': 4546, 'fluff': 4547, 'camcord': 4548, 'slimi': 4549, 'boston': 4550, 'whore': 4551, 'stimul': 4552, 'glorifi': 4553, 'claustrophob': 4554, 'contempt': 4555, 'ebert': 4556, 'idol': 4557, 'redund': 4558, 'salt': 4559, 'hokey': 4560, 'dismal': 4561, 'hooker': 4562, 'stair': 4563, 'surgeri': 4564, 'intric': 4565, 'scorses': 4566, 'zoom': 4567, 'tripl': 4568, 'macho': 4569, 'overlong': 4570, 'foolish': 4571, 'phenomenon': 4572, 'bent': 4573, 'filth': 4574, 'ariel': 4575, 'steer': 4576, 'oldest': 4577, 'immatur': 4578, 'guin': 4579, 'sox': 4580, 'cassavet': 4581, 'hostag': 4582, 'corbett': 4583, 'shred': 4584, 'perman': 4585, 'spinal': 4586, 'spree': 4587, 'antagonist': 4588, 'flashi': 4589, 'frantic': 4590, 'cush': 4591, 'flirt': 4592, 'rhyme': 4593, 'muscl': 4594, 'keen': 4595, 'mutual': 4596, 'transplant': 4597, 'conquer': 4598, 'faint': 4599, 'margin': 4600, 'mount': 4601, 'harold': 4602, 'proport': 4603, 'remad': 4604, 'cohen': 4605, 'obligatori': 4606, 'corman': 4607, 'widescreen': 4608, 'strongest': 4609, 'cow': 4610, 'down': 4611, 'naschi': 4612, 'gasp': 4613, 'assert': 4614, '1981': 4615, 'flag': 4616, 'trivia': 4617, 'preced': 4618, 'fascist': 4619, 'shield': 4620, 'joker': 4621, '1976': 4622, 'nolt': 4623, 'zane': 4624, 'radiat': 4625, 'schlock': 4626, 'messi': 4627, 'gabl': 4628, 'alvin': 4629, 'astronaut': 4630, 'dwarf': 4631, 'beard': 4632, 'resum': 4633, 'vaniti': 4634, 'discern': 4635, 'barn': 4636, 'flock': 4637, 'strive': 4638, 'interestingli': 4639, 'mobil': 4640, 'persuad': 4641, 'fishburn': 4642, 'brush': 4643, 'ritchi': 4644, 'bachelor': 4645, '95': 4646, 'wield': 4647, 'neurot': 4648, '28': 4649, 'repris': 4650, 'scandal': 4651, 'deer': 4652, 'triangl': 4653, 'inflict': 4654, 'sensual': 4655, 'boob': 4656, 'divin': 4657, 'www': 4658, 'someday': 4659, 'bitten': 4660, 'instruct': 4661, 'archiv': 4662, 'hara': 4663, 'raj': 4664, '1945': 4665, 'claud': 4666, 'departur': 4667, 'off': 4668, 'mol': 4669, 'carey': 4670, 'info': 4671, 'danish': 4672, 'aborigin': 4673, 'luka': 4674, 'dylan': 4675, 'axe': 4676, 'kathryn': 4677, 'pickford': 4678, 'bate': 4679, 'banter': 4680, 'cliffhang': 4681, 'miracul': 4682, 'senior': 4683, 'hug': 4684, 'casino': 4685, 'pixar': 4686, 'frontier': 4687, 'helm': 4688, 'traffic': 4689, 'carlo': 4690, 'anton': 4691, 'colin': 4692, 'jade': 4693, 'earnest': 4694, 'harrison': 4695, 'heartwarm': 4696, 'mobster': 4697, 'submit': 4698, 'dame': 4699, 'recit': 4700, 'rot': 4701, 'fragil': 4702, 'vibrant': 4703, 'proclaim': 4704, 'undermin': 4705, 'artwork': 4706, 'cycl': 4707, 'biblic': 4708, 'prophet': 4709, 'pacif': 4710, 'neill': 4711, 'dim': 4712, 'hapless': 4713, 'cb': 4714, 'clad': 4715, 'loretta': 4716, 'melissa': 4717, 'ish': 4718, 'timberlak': 4719, 'wendigo': 4720, 'hilar': 4721, 'cher': 4722, 'europa': 4723, 'parson': 4724, 'lucil': 4725, 'shepherd': 4726, 'nope': 4727, 'aris': 4728, 'bikini': 4729, 'redneck': 4730, 'orphan': 4731, 'isra': 4732, 'antholog': 4733, 'static': 4734, 'breakfast': 4735, 'mathieu': 4736, 'electron': 4737, 'jordan': 4738, 'milo': 4739, 'holocaust': 4740, 'northern': 4741, 'choke': 4742, 'akin': 4743, 'rooki': 4744, 'vile': 4745, 'marlon': 4746, 'jo': 4747, 'alexandr': 4748, 'blatantli': 4749, 'cerebr': 4750, 'bondag': 4751, 'toronto': 4752, 'seedi': 4753, 'estrang': 4754, 'token': 4755, 'vanessa': 4756, 'pc': 4757, 'feast': 4758, 'lui': 4759, 'legitim': 4760, 'articl': 4761, 'wardrob': 4762, 'venom': 4763, 'flavor': 4764, 'mason': 4765, 'eli': 4766, 'illus': 4767, 'http': 4768, 'razor': 4769, 'winchest': 4770, 'uma': 4771, 'misfortun': 4772, 'foil': 4773, 'sicken': 4774, 'trier': 4775, 'glare': 4776, 'highway': 4777, 'deem': 4778, 'turd': 4779, 'clinic': 4780, 'disregard': 4781, 'knightley': 4782, 'psych': 4783, 'magician': 4784, 'abund': 4785, 'audrey': 4786, 'cartoonish': 4787, 'styliz': 4788, 'ideolog': 4789, 'dudley': 4790, 'huston': 4791, 'fifth': 4792, 'howl': 4793, 'boyer': 4794, 'affleck': 4795, 'outdat': 4796, 'nightclub': 4797, 'leather': 4798, 'gilbert': 4799, 'comprehend': 4800, 'feminin': 4801, 'retriev': 4802, 'linear': 4803, 'oppon': 4804, 'peer': 4805, 'tack': 4806, 'charlton': 4807, 'ceremoni': 4808, 'gunga': 4809, 'swept': 4810, 'wrestler': 4811, 'shorter': 4812, 'frog': 4813, 'smack': 4814, 'cuban': 4815, 'evolut': 4816, 'chip': 4817, 'plate': 4818, 'uniformli': 4819, 'summar': 4820, 'mitch': 4821, 'collector': 4822, 'boo': 4823, 'sleaz': 4824, 'snatch': 4825, 'greet': 4826, 'cemeteri': 4827, 'lighter': 4828, 'lifeless': 4829, 'btw': 4830, 'newer': 4831, '1994': 4832, 'moe': 4833, 'toe': 4834, 'breakdown': 4835, '4th': 4836, 'potter': 4837, 'durat': 4838, 'goldsworthi': 4839, 'corn': 4840, 'spine': 4841, 'whack': 4842, 'monument': 4843, '1991': 4844, 'salman': 4845, 'einstein': 4846, 'lavish': 4847, 'tara': 4848, 'bastard': 4849, 'compris': 4850, 'braveheart': 4851, 'bogu': 4852, 'client': 4853, 'conrad': 4854, 'spawn': 4855, 'phenomen': 4856, 'energet': 4857, 'senat': 4858, 'deliver': 4859, 'jam': 4860, 'clara': 4861, 'neatli': 4862, 'embark': 4863, 'replay': 4864, 'fluid': 4865, 'jule': 4866, 'cecil': 4867, 'occup': 4868, 'inaccuraci': 4869, 'ol': 4870, 'luxuri': 4871, 'alleg': 4872, 'outright': 4873, 'kent': 4874, 'belli': 4875, 'evelyn': 4876, 'pronounc': 4877, 'appl': 4878, 'undead': 4879, 'sorrow': 4880, 'firmli': 4881, 'judd': 4882, 'trauma': 4883, 'ie': 4884, 'kazan': 4885, 'eleven': 4886, 'nina': 4887, 'gilliam': 4888, 'armstrong': 4889, 'lex': 4890, 'jare': 4891, 'bori': 4892, 'liu': 4893, 'wtf': 4894, 'constitut': 4895, 'creek': 4896, 'signal': 4897, '1977': 4898, 'spectacl': 4899, 'bulk': 4900, 'historian': 4901, 'randolph': 4902, 'undertak': 4903, 'healthi': 4904, 'mcqueen': 4905, '1974': 4906, 'capot': 4907, 'jedi': 4908, 'tokyo': 4909, 'poker': 4910, 'goldblum': 4911, 'fruit': 4912, 'miniseri': 4913, 'comprehens': 4914, 'rosario': 4915, 'pioneer': 4916, 'walt': 4917, 'palm': 4918, 'cape': 4919, 'vignett': 4920, 'lauren': 4921, 'inclus': 4922, 'lanc': 4923, 'blur': 4924, 'id': 4925, 'meal': 4926, 'subtli': 4927, 'truman': 4928, 'inaccur': 4929, 'bait': 4930, 'comb': 4931, 'unattract': 4932, 'aussi': 4933, 'bsg': 4934, 'basket': 4935, 'galaxi': 4936, 'abound': 4937, 'ash': 4938, 'miami': 4939, 'genet': 4940, 'unsuspect': 4941, 'congratul': 4942, 'knee': 4943, 'porter': 4944, 'antonio': 4945, 'roar': 4946, 'forgiven': 4947, 'sacrif': 4948, 'groan': 4949, 'pepper': 4950, '1985': 4951, 'mum': 4952, 'decapit': 4953, 'conan': 4954, 'spray': 4955, 'kiddi': 4956, 'relentless': 4957, 'propheci': 4958, 'vain': 4959, 'curtain': 4960, 'paula': 4961, 'sidewalk': 4962, 'carmen': 4963, 'weaker': 4964, 'sophi': 4965, 'motorcycl': 4966, 'vastli': 4967, 'dubiou': 4968, 'ingrid': 4969, 'frontal': 4970, 'profil': 4971, 'ghetto': 4972, '21st': 4973, 'playboy': 4974, 'hostil': 4975, 'drone': 4976, 'assort': 4977, 'spill': 4978, 'handicap': 4979, 'scarfac': 4980, 'verg': 4981, 'epitom': 4982, 'cypher': 4983, 'optimist': 4984, 'weari': 4985, 'evan': 4986, 'sparkl': 4987, 'detach': 4988, 'rapidli': 4989, 'modest': 4990, 'mice': 4991, 'orchestr': 4992, 'substanti': 4993, 'victorian': 4994, 'incorrect': 4995, 'jill': 4996, 'bravo': 4997, 'masterson': 4998, 'turtl': 4999}\n"
    }
   ],
   "source": [
    "word_dict = build_dict(train_X)\n",
    "\n",
    "print(word_dict)\n"
   ]
  },
  {
   "cell_type": "markdown",
   "metadata": {},
   "source": [
    "**Question:** What are the five most frequently appearing (tokenized) words in the training set? Does it makes sense that these words appear frequently in the training set?"
   ]
  },
  {
   "cell_type": "markdown",
   "metadata": {},
   "source": [
    "**Answer: The cell below contains the five most frequently appearing words. They are \"movi\", \"film\", \"one\", \"like\", \"time\". It kind of makes sense that these words appear repeatedly as one would expect these to show up in both positive and negative review related to movie. However, it is worth pointing out that these words are not particularly useful in determining the sentiment of the review**"
   ]
  },
  {
   "cell_type": "code",
   "execution_count": 14,
   "metadata": {},
   "outputs": [
    {
     "name": "stdout",
     "output_type": "stream",
     "text": "movi\nfilm\none\nlike\ntime\n"
    }
   ],
   "source": [
    "# TODO: Use this space to determine the five most frequently appearing words in the training set.\n",
    "for word, index in word_dict.items():\n",
    "    if index == 2 or index == 3 or index == 4 or index == 5 or index == 6:\n",
    "        print (word)\n"
   ]
  },
  {
   "cell_type": "markdown",
   "metadata": {},
   "source": [
    "### Save `word_dict`\n",
    "\n",
    "Later on when we construct an endpoint which processes a submitted review we will need to make use of the `word_dict` which we have created. As such, we will save it to a file now for future use."
   ]
  },
  {
   "cell_type": "code",
   "execution_count": 15,
   "metadata": {},
   "outputs": [],
   "source": [
    "data_dir = '../data/pytorch' # The folder we will use for storing data\n",
    "if not os.path.exists(data_dir): # Make sure that the folder exists\n",
    "    os.makedirs(data_dir)"
   ]
  },
  {
   "cell_type": "code",
   "execution_count": 16,
   "metadata": {},
   "outputs": [],
   "source": [
    "with open(os.path.join(data_dir, 'word_dict.pkl'), \"wb\") as f:\n",
    "    pickle.dump(word_dict, f)"
   ]
  },
  {
   "cell_type": "markdown",
   "metadata": {},
   "source": [
    "### Transform the reviews\n",
    "\n",
    "Now that we have our word dictionary which allows us to transform the words appearing in the reviews into integers, it is time to make use of it and convert our reviews to their integer sequence representation, making sure to pad or truncate to a fixed length, which in our case is `500`."
   ]
  },
  {
   "cell_type": "code",
   "execution_count": 17,
   "metadata": {},
   "outputs": [],
   "source": [
    "def convert_and_pad(word_dict, sentence, pad=500):\n",
    "    NOWORD = 0 # We will use 0 to represent the 'no word' category\n",
    "    INFREQ = 1 # and we use 1 to represent the infrequent words, i.e., words not appearing in word_dict\n",
    "    \n",
    "    working_sentence = [NOWORD] * pad\n",
    "    \n",
    "    for word_index, word in enumerate(sentence[:pad]):\n",
    "        if word in word_dict:\n",
    "            working_sentence[word_index] = word_dict[word]\n",
    "        else:\n",
    "            working_sentence[word_index] = INFREQ\n",
    "            \n",
    "    return working_sentence, min(len(sentence), pad)\n",
    "\n",
    "def convert_and_pad_data(word_dict, data, pad=500):\n",
    "    result = []\n",
    "    lengths = []\n",
    "    \n",
    "    for sentence in data:\n",
    "        converted, leng = convert_and_pad(word_dict, sentence, pad)\n",
    "        result.append(converted)\n",
    "        lengths.append(leng)\n",
    "        \n",
    "    return np.array(result), np.array(lengths)"
   ]
  },
  {
   "cell_type": "code",
   "execution_count": 18,
   "metadata": {},
   "outputs": [],
   "source": [
    "train_X, train_X_len = convert_and_pad_data(word_dict, train_X)\n",
    "test_X, test_X_len = convert_and_pad_data(word_dict, test_X)"
   ]
  },
  {
   "cell_type": "markdown",
   "metadata": {},
   "source": [
    "As a quick check to make sure that things are working as intended, check to see what one of the reviews in the training set looks like after having been processeed. Does this look reasonable? What is the length of a review in the training set?"
   ]
  },
  {
   "cell_type": "code",
   "execution_count": 163,
   "metadata": {},
   "outputs": [
    {
     "name": "stdout",
     "output_type": "stream",
     "text": "[ 672  232    2 4925   49   11 4289    1 2085   33  589    1  589    1\n    1 2362 2035  977  327  664 1578  478 4971   55  118 2524  162 2342\n   30  730  162  194   40  272 1501  427  814  248 2924 1195 2319    1\n  335    6 2319  345  589 1759   39   78    1  746 3824  664    1  260\n 1065    1    1  248 2525  320  688 1156   50  569  589 3092    1  320\n  393   13  155  138    2   16    7   68   53  136   44  340   35  609\n  591  843    2   33   26  491    2  231 3825 3449   12  335    6  862\n   52  336    1  130   11  529  123  556 2870 1560 3227   18  589  479\n    1  544 1719    1 1927    4 2319  209  544 1719 1271    1   10  180\n    0    0    0    0    0    0    0    0    0    0    0    0    0    0\n    0    0    0    0    0    0    0    0    0    0    0    0    0    0\n    0    0    0    0    0    0    0    0    0    0    0    0    0    0\n    0    0    0    0    0    0    0    0    0    0    0    0    0    0\n    0    0    0    0    0    0    0    0    0    0    0    0    0    0\n    0    0    0    0    0    0    0    0    0    0    0    0    0    0\n    0    0    0    0    0    0    0    0    0    0    0    0    0    0\n    0    0    0    0    0    0    0    0    0    0    0    0    0    0\n    0    0    0    0    0    0    0    0    0    0    0    0    0    0\n    0    0    0    0    0    0    0    0    0    0    0    0    0    0\n    0    0    0    0    0    0    0    0    0    0    0    0    0    0\n    0    0    0    0    0    0    0    0    0    0    0    0    0    0\n    0    0    0    0    0    0    0    0    0    0    0    0    0    0\n    0    0    0    0    0    0    0    0    0    0    0    0    0    0\n    0    0    0    0    0    0    0    0    0    0    0    0    0    0\n    0    0    0    0    0    0    0    0    0    0    0    0    0    0\n    0    0    0    0    0    0    0    0    0    0    0    0    0    0\n    0    0    0    0    0    0    0    0    0    0    0    0    0    0\n    0    0    0    0    0    0    0    0    0    0    0    0    0    0\n    0    0    0    0    0    0    0    0    0    0    0    0    0    0\n    0    0    0    0    0    0    0    0    0    0    0    0    0    0\n    0    0    0    0    0    0    0    0    0    0    0    0    0    0\n    0    0    0    0    0    0    0    0    0    0    0    0    0    0\n    0    0    0    0    0    0    0    0    0    0    0    0    0    0\n    0    0    0    0    0    0    0    0    0    0    0    0    0    0\n    0    0    0    0    0    0    0    0    0    0    0    0    0    0\n    0    0    0    0    0    0    0    0    0    0]\n500\n126\n"
    }
   ],
   "source": [
    "print(train_X[100])# Use this cell to examine one of the processed reviews to make sure everything is working as intended.\n",
    "print(len(train_X[100]))\n",
    "print(train_X_len[100])"
   ]
  },
  {
   "cell_type": "markdown",
   "execution_count": null,
   "metadata": {},
   "outputs": [],
   "source": [
    "**Question:** In the cells above we use the `preprocess_data` and `convert_and_pad_data` methods to process both the training and testing set. Why or why not might this be a problem?"
   ]
  },
  {
   "cell_type": "markdown",
   "metadata": {},
   "source": [
    "**Answer: There isn't any issue in applying the same method to both the training and testing set as one would expect the input data for both training and testing be consistent. In this particular case, the preprocessed_data method help break the review down into words and caching it. The convert_and_pad_data method ensures that each review as an input is consistent in its shape so that the model could receive a standardised input shape. Applying these methods on both the training and testing set is not an issue as it does not introduce bias**"
   ]
  },
  {
   "cell_type": "markdown",
   "metadata": {},
   "source": [
    "## Step 3: Upload the data to S3\n",
    "\n",
    "As in the XGBoost notebook, we will need to upload the training dataset to S3 in order for our training code to access it. For now we will save it locally and we will upload to S3 later on.\n",
    "\n",
    "### Save the processed training dataset locally\n",
    "\n",
    "It is important to note the format of the data that we are saving as we will need to know it when we write the training code. In our case, each row of the dataset has the form `label`, `length`, `review[500]` where `review[500]` is a sequence of `500` integers representing the words in the review."
   ]
  },
  {
   "cell_type": "code",
   "execution_count": 20,
   "metadata": {},
   "outputs": [],
   "source": [
    "import pandas as pd\n",
    "    \n",
    "pd.concat([pd.DataFrame(train_y), pd.DataFrame(train_X_len), pd.DataFrame(train_X)], axis=1) \\\n",
    "        .to_csv(os.path.join(data_dir, 'train.csv'), header=False, index=False)"
   ]
  },
  {
   "cell_type": "markdown",
   "metadata": {},
   "source": [
    "### Uploading the training data\n",
    "\n",
    "\n",
    "Next, we need to upload the training data to the SageMaker default S3 bucket so that we can provide access to it while training our model."
   ]
  },
  {
   "cell_type": "code",
   "execution_count": 21,
   "metadata": {},
   "outputs": [
    {
     "ename": "ModuleNotFoundError",
     "evalue": "No module named 'sagemaker'",
     "output_type": "error",
     "traceback": [
      "\u001b[0;31m---------------------------------------------------------------------------\u001b[0m",
      "\u001b[0;31mModuleNotFoundError\u001b[0m                       Traceback (most recent call last)",
      "\u001b[0;32m<ipython-input-21-44b92e9ccb48>\u001b[0m in \u001b[0;36m<module>\u001b[0;34m\u001b[0m\n\u001b[0;32m----> 1\u001b[0;31m \u001b[0;32mimport\u001b[0m \u001b[0msagemaker\u001b[0m\u001b[0;34m\u001b[0m\u001b[0;34m\u001b[0m\u001b[0m\n\u001b[0m\u001b[1;32m      2\u001b[0m \u001b[0;34m\u001b[0m\u001b[0m\n\u001b[1;32m      3\u001b[0m \u001b[0msagemaker_session\u001b[0m \u001b[0;34m=\u001b[0m \u001b[0msagemaker\u001b[0m\u001b[0;34m.\u001b[0m\u001b[0mSession\u001b[0m\u001b[0;34m(\u001b[0m\u001b[0;34m)\u001b[0m\u001b[0;34m\u001b[0m\u001b[0;34m\u001b[0m\u001b[0m\n\u001b[1;32m      4\u001b[0m \u001b[0;34m\u001b[0m\u001b[0m\n\u001b[1;32m      5\u001b[0m \u001b[0mbucket\u001b[0m \u001b[0;34m=\u001b[0m \u001b[0msagemaker_session\u001b[0m\u001b[0;34m.\u001b[0m\u001b[0mdefault_bucket\u001b[0m\u001b[0;34m(\u001b[0m\u001b[0;34m)\u001b[0m\u001b[0;34m\u001b[0m\u001b[0;34m\u001b[0m\u001b[0m\n",
      "\u001b[0;31mModuleNotFoundError\u001b[0m: No module named 'sagemaker'"
     ]
    }
   ],
   "source": [
    "import sagemaker\n",
    "\n",
    "sagemaker_session = sagemaker.Session()\n",
    "\n",
    "bucket = sagemaker_session.default_bucket()\n",
    "prefix = 'sagemaker/sentiment_rnn'\n",
    "\n",
    "role = sagemaker.get_execution_role()"
   ]
  },
  {
   "cell_type": "code",
   "execution_count": 0,
   "metadata": {},
   "outputs": [],
   "source": [
    "input_data = sagemaker_session.upload_data(path=data_dir, bucket=bucket, key_prefix=prefix)"
   ]
  },
  {
   "cell_type": "markdown",
   "metadata": {},
   "source": [
    "**NOTE:** The cell above uploads the entire contents of our data directory. This includes the `word_dict.pkl` file. This is fortunate as we will need this later on when we create an endpoint that accepts an arbitrary review. For now, we will just take note of the fact that it resides in the data directory (and so also in the S3 training bucket) and that we will need to make sure it gets saved in the model directory."
   ]
  },
  {
   "cell_type": "markdown",
   "metadata": {},
   "source": [
    "## Step 4: Build and Train the PyTorch Model\n",
    "\n",
    "In the XGBoost notebook we discussed what a model is in the SageMaker framework. In particular, a model comprises three objects\n",
    "\n",
    " - Model Artifacts,\n",
    " - Training Code, and\n",
    " - Inference Code,\n",
    " \n",
    "each of which interact with one another. In the XGBoost example we used training and inference code that was provided by Amazon. Here we will still be using containers provided by Amazon with the added benefit of being able to include our own custom code.\n",
    "\n",
    "We will start by implementing our own neural network in PyTorch along with a training script. For the purposes of this project we have provided the necessary model object in the `model.py` file, inside of the `train` folder. You can see the provided implementation by running the cell below."
   ]
  },
  {
   "cell_type": "code",
   "execution_count": 53,
   "metadata": {},
   "outputs": [
    {
     "name": "stdout",
     "output_type": "stream",
     "text": "\u001b[34mimport\u001b[39;49;00m \u001b[04m\u001b[36mtorch.nn\u001b[39;49;00m \u001b[34mas\u001b[39;49;00m \u001b[04m\u001b[36mnn\u001b[39;49;00m\n\n\u001b[34mclass\u001b[39;49;00m \u001b[04m\u001b[32mLSTMClassifier\u001b[39;49;00m(nn.Module):\n    \u001b[33m\"\"\"\u001b[39;49;00m\n\u001b[33m    This is the simple RNN model we will be using to perform Sentiment Analysis.\u001b[39;49;00m\n\u001b[33m    \"\"\"\u001b[39;49;00m\n\n    \u001b[34mdef\u001b[39;49;00m \u001b[32m__init__\u001b[39;49;00m(\u001b[36mself\u001b[39;49;00m, embedding_dim, hidden_dim, vocab_size):\n        \u001b[33m\"\"\"\u001b[39;49;00m\n\u001b[33m        Initialize the model by settingg up the various layers.\u001b[39;49;00m\n\u001b[33m        \"\"\"\u001b[39;49;00m\n        \u001b[36msuper\u001b[39;49;00m(LSTMClassifier, \u001b[36mself\u001b[39;49;00m).\u001b[32m__init__\u001b[39;49;00m()\n\n        \u001b[36mself\u001b[39;49;00m.embedding = nn.Embedding(vocab_size, embedding_dim, padding_idx=\u001b[34m0\u001b[39;49;00m)\n        \u001b[36mself\u001b[39;49;00m.lstm = nn.LSTM(embedding_dim, hidden_dim)\n        \u001b[36mself\u001b[39;49;00m.dense = nn.Linear(in_features=hidden_dim, out_features=\u001b[34m1\u001b[39;49;00m)\n        \u001b[36mself\u001b[39;49;00m.sig = nn.Sigmoid()\n        \n        \u001b[36mself\u001b[39;49;00m.word_dict = \u001b[36mNone\u001b[39;49;00m\n\n    \u001b[34mdef\u001b[39;49;00m \u001b[32mforward\u001b[39;49;00m(\u001b[36mself\u001b[39;49;00m, x):\n        \u001b[33m\"\"\"\u001b[39;49;00m\n\u001b[33m        Perform a forward pass of our model on some input.\u001b[39;49;00m\n\u001b[33m        \"\"\"\u001b[39;49;00m\n        x = x.t() \u001b[37m#transpose tensor\u001b[39;49;00m\n        lengths = x[\u001b[34m0\u001b[39;49;00m,:]  \u001b[37m#after transpose, the second dimension is the length (0 got rid of the first dimension)\u001b[39;49;00m\n        reviews = x[\u001b[34m1\u001b[39;49;00m:,:] \u001b[37m#removing the first line from the first dimension i.e. [501,50 -> [500,50]] - file concat on axis 1, first value is label, second value is length, third value till the end is review. Torch utils has already separated out the y label so remaining x is 501.\u001b[39;49;00m\n        embeds = \u001b[36mself\u001b[39;49;00m.embedding(reviews)\n        lstm_out, _ = \u001b[36mself\u001b[39;49;00m.lstm(embeds)\n        out = \u001b[36mself\u001b[39;49;00m.dense(lstm_out)\n        out = out[lengths - \u001b[34m1\u001b[39;49;00m, \u001b[36mrange\u001b[39;49;00m(\u001b[36mlen\u001b[39;49;00m(lengths))] \u001b[37m#reshaping the output to be batch size?\u001b[39;49;00m\n        \u001b[34mreturn\u001b[39;49;00m \u001b[36mself\u001b[39;49;00m.sig(out.squeeze()) \u001b[37m#?\u001b[39;49;00m\n"
    }
   ],
   "source": [
    "!pygmentize train/model.py"
   ]
  },
  {
   "cell_type": "markdown",
   "metadata": {},
   "source": [
    "The important takeaway from the implementation provided is that there are three parameters that we may wish to tweak to improve the performance of our model. These are the embedding dimension, the hidden dimension and the size of the vocabulary. We will likely want to make these parameters configurable in the training script so that if we wish to modify them we do not need to modify the script itself. We will see how to do this later on. To start we will write some of the training code in the notebook so that we can more easily diagnose any issues that arise.\n",
    "\n",
    "First we will load a small portion of the training data set to use as a sample. It would be very time consuming to try and train the model completely in the notebook as we do not have access to a gpu and the compute instance that we are using is not particularly powerful. However, we can work on a small bit of the data to get a feel for how our training script is behaving."
   ]
  },
  {
   "cell_type": "code",
   "execution_count": 117,
   "metadata": {},
   "outputs": [],
   "source": [
    "import torch\n",
    "import torch.utils.data\n",
    "\n",
    "# Read in only the first 250 rows\n",
    "train_sample = pd.read_csv(os.path.join(data_dir, 'train.csv'), header=None, names=None, nrows=250)\n",
    "\n",
    "# Turn the input pandas dataframe into tensors\n",
    "train_sample_y = torch.from_numpy(train_sample[[0]].values).float().squeeze()\n",
    "train_sample_X = torch.from_numpy(train_sample.drop([0], axis=1).values).long()\n",
    "\n",
    "# Build the dataset\n",
    "train_sample_ds = torch.utils.data.TensorDataset(train_sample_X, train_sample_y)\n",
    "# Build the dataloader\n",
    "train_sample_dl = torch.utils.data.DataLoader(train_sample_ds, batch_size=50)"
   ]
  },
  {
   "cell_type": "code",
   "execution_count": 55,
   "metadata": {},
   "outputs": [
    {
     "name": "stdout",
     "output_type": "stream",
     "text": "0    1    2    3    4    5    6    7    8     9    ...  492  493  494  495  \\\n0    1  128   17   45   79   17  645  105  601   348  ...    0    0    0    0   \n1    1   78  137  111   11  241  168    2    1  2863  ...    0    0    0    0   \n\n   496  497  498  499  500  501  \n0    0    0    0    0    0    0  \n1    0    0    0    0    0    0  \n\n[2 rows x 502 columns]\n"
    }
   ],
   "source": [
    "#studying the format of the data\n",
    "print(train_sample[0:2])"
   ]
  },
  {
   "cell_type": "markdown",
   "metadata": {},
   "source": [
    "### (TODO) Writing the training method\n",
    "\n",
    "Next we need to write the training code itself. This should be very similar to training methods that you have written before to train PyTorch models. We will leave any difficult aspects such as model saving / loading and parameter loading until a little later."
   ]
  },
  {
   "cell_type": "code",
   "execution_count": 57,
   "metadata": {},
   "outputs": [],
   "source": [
    "def train(model, train_loader, epochs, optimizer, loss_fn, device):\n",
    "    for epoch in range(1, epochs + 1):\n",
    "        model.train()\n",
    "        total_loss = 0\n",
    "        for batch in train_loader:         \n",
    "            batch_X, batch_y = batch #x is 501*50, y is the label\n",
    "            \n",
    "            batch_X = batch_X.to(device)\n",
    "            batch_y = batch_y.to(device)\n",
    "            # zero accumulated gradients\n",
    "            model.zero_grad()\n",
    "            # get the output from the model\n",
    "            output = model(batch_X)\n",
    "            # calculate the loss and perform backprop\n",
    "            loss = loss_fn(output, batch_y.float())\n",
    "\n",
    "            loss.backward()\n",
    "\n",
    "            optimizer.step()\n",
    "            \n",
    "            # TODO: Complete this train method to train the model provided.\n",
    "            \n",
    "            total_loss += loss.data.item()\n",
    "        print(\"Epoch: {}, BCELoss: {}\".format(epoch, total_loss / len(train_loader)))"
   ]
  },
  {
   "cell_type": "markdown",
   "metadata": {},
   "source": [
    "Supposing we have the training method above, we will test that it is working by writing a bit of code in the notebook that executes our training method on the small sample training set that we loaded earlier. The reason for doing this in the notebook is so that we have an opportunity to fix any errors that arise early when they are easier to diagnose."
   ]
  },
  {
   "cell_type": "code",
   "execution_count": 118,
   "metadata": {},
   "outputs": [
    {
     "name": "stdout",
     "output_type": "stream",
     "text": "Epoch: 1, BCELoss: 0.675285100142161\nEpoch: 2, BCELoss: 0.6014991780122121\nEpoch: 3, BCELoss: 0.5236447981993357\nEpoch: 4, BCELoss: 0.5379114711284637\nEpoch: 5, BCELoss: 0.44440247654914855\nEpoch: 6, BCELoss: 0.3799341146151225\nEpoch: 7, BCELoss: 0.3352791796127955\nEpoch: 8, BCELoss: 0.3049210516611735\nEpoch: 9, BCELoss: 0.2888465764125188\nEpoch: 10, BCELoss: 0.28210547109444933\nEpoch: 11, BCELoss: 0.2518307137489319\nEpoch: 12, BCELoss: 0.22788125763336817\nEpoch: 13, BCELoss: 0.20900594850381216\nEpoch: 14, BCELoss: 0.18573762794335683\nEpoch: 15, BCELoss: 0.16735746930042902\nEpoch: 16, BCELoss: 0.15099322095513343\nEpoch: 17, BCELoss: 0.1619683157404264\nEpoch: 18, BCELoss: 0.17751475339134534\nEpoch: 19, BCELoss: 0.14605289056897164\nEpoch: 20, BCELoss: 0.12601994790136814\nEpoch: 21, BCELoss: 0.12237362888952097\nEpoch: 22, BCELoss: 0.09925941114624341\nEpoch: 23, BCELoss: 0.07191306360065937\nEpoch: 24, BCELoss: 0.06548566222190857\nEpoch: 25, BCELoss: 0.05726375030974547\nEpoch: 26, BCELoss: 0.04685972479482492\nEpoch: 27, BCELoss: 0.0512741041307648\nEpoch: 28, BCELoss: 0.04260726921260357\nEpoch: 29, BCELoss: 0.06266249790787697\nEpoch: 30, BCELoss: 0.04074370700245102\n"
    }
   ],
   "source": [
    "import torch.optim as optim\n",
    "from train.model import LSTMClassifier\n",
    "\n",
    "device = torch.device(\"cuda\" if torch.cuda.is_available() else \"cpu\")\n",
    "model = LSTMClassifier(32, 100, 5000).to(device)\n",
    "optimizer = optim.Adam(model.parameters())\n",
    "loss_fn = torch.nn.BCELoss()\n",
    "\n",
    "train(model, train_sample_dl, 10, optimizer, loss_fn, device)"
   ]
  },
  {
   "cell_type": "markdown",
   "execution_count": null,
   "metadata": {},
   "outputs": [],
   "source": [
    "## Testing of model\n",
    "\n",
    "Local testing of model - this section was used to test out the model trained above. Poor performance is expected as the model was trained using only small sample size for a very short period of time. Howevevr, it should still show that it is better than flipping a coin."
   ]
  },
  {
   "cell_type": "code",
   "execution_count": 1,
   "metadata": {},
   "outputs": [
    {
     "ename": "NameError",
     "evalue": "name 'pd' is not defined",
     "output_type": "error",
     "traceback": [
      "\u001b[0;31m---------------------------------------------------------------------------\u001b[0m",
      "\u001b[0;31mNameError\u001b[0m                                 Traceback (most recent call last)",
      "\u001b[0;32m<ipython-input-1-08aa6a9ab3d8>\u001b[0m in \u001b[0;36m<module>\u001b[0;34m\u001b[0m\n\u001b[0;32m----> 1\u001b[0;31m \u001b[0mpd\u001b[0m\u001b[0;34m.\u001b[0m\u001b[0mconcat\u001b[0m\u001b[0;34m(\u001b[0m\u001b[0;34m[\u001b[0m\u001b[0mpd\u001b[0m\u001b[0;34m.\u001b[0m\u001b[0mDataFrame\u001b[0m\u001b[0;34m(\u001b[0m\u001b[0mtest_y\u001b[0m\u001b[0;34m)\u001b[0m\u001b[0;34m,\u001b[0m \u001b[0mpd\u001b[0m\u001b[0;34m.\u001b[0m\u001b[0mDataFrame\u001b[0m\u001b[0;34m(\u001b[0m\u001b[0mtest_X_len\u001b[0m\u001b[0;34m)\u001b[0m\u001b[0;34m,\u001b[0m \u001b[0mpd\u001b[0m\u001b[0;34m.\u001b[0m\u001b[0mDataFrame\u001b[0m\u001b[0;34m(\u001b[0m\u001b[0mtest_X\u001b[0m\u001b[0;34m)\u001b[0m\u001b[0;34m]\u001b[0m\u001b[0;34m,\u001b[0m \u001b[0maxis\u001b[0m\u001b[0;34m=\u001b[0m\u001b[0;36m1\u001b[0m\u001b[0;34m)\u001b[0m\u001b[0;31m \u001b[0m\u001b[0;31m\\\u001b[0m\u001b[0;34m\u001b[0m\u001b[0;34m\u001b[0m\u001b[0m\n\u001b[0m\u001b[1;32m      2\u001b[0m         \u001b[0;34m.\u001b[0m\u001b[0mto_csv\u001b[0m\u001b[0;34m(\u001b[0m\u001b[0mos\u001b[0m\u001b[0;34m.\u001b[0m\u001b[0mpath\u001b[0m\u001b[0;34m.\u001b[0m\u001b[0mjoin\u001b[0m\u001b[0;34m(\u001b[0m\u001b[0mdata_dir\u001b[0m\u001b[0;34m,\u001b[0m \u001b[0;34m'test.csv'\u001b[0m\u001b[0;34m)\u001b[0m\u001b[0;34m,\u001b[0m \u001b[0mheader\u001b[0m\u001b[0;34m=\u001b[0m\u001b[0;32mFalse\u001b[0m\u001b[0;34m,\u001b[0m \u001b[0mindex\u001b[0m\u001b[0;34m=\u001b[0m\u001b[0;32mFalse\u001b[0m\u001b[0;34m)\u001b[0m\u001b[0;34m\u001b[0m\u001b[0;34m\u001b[0m\u001b[0m\n",
      "\u001b[0;31mNameError\u001b[0m: name 'pd' is not defined"
     ]
    }
   ],
   "source": [
    "pd.concat([pd.DataFrame(test_y), pd.DataFrame(test_X_len), pd.DataFrame(test_X)], axis=1) \\\n",
    "        .to_csv(os.path.join(data_dir, 'test.csv'), header=False, index=False)"
   ]
  },
  {
   "cell_type": "code",
   "execution_count": 119,
   "metadata": {},
   "outputs": [],
   "source": [
    "# Read in only the first 250 rows\n",
    "test_sample = pd.read_csv(os.path.join(data_dir, 'test.csv'), header=None, names=None, nrows=250)\n",
    "\n",
    "# Turn the input pandas dataframe into tensors\n",
    "test_sample_y = torch.from_numpy(test_sample[[0]].values).float().squeeze()\n",
    "test_sample_X = torch.from_numpy(test_sample.drop([0], axis=1).values).long()\n",
    "\n",
    "# Build the dataset\n",
    "test_sample_ds = torch.utils.data.TensorDataset(test_sample_X, test_sample_y)\n",
    "# Build the dataloader\n",
    "test_sample_dl = torch.utils.data.DataLoader(test_sample_ds, batch_size=50)"
   ]
  },
  {
   "cell_type": "code",
   "execution_count": 120,
   "metadata": {},
   "outputs": [
    {
     "name": "stdout",
     "output_type": "stream",
     "text": "Test loss: 1.116\nTest accuracy: 0.768\n"
    }
   ],
   "source": [
    "from sklearn.metrics import accuracy_score\n",
    "\n",
    "test_loss = 0\n",
    "num_correct = 0\n",
    "\n",
    "model.eval()\n",
    "\n",
    "with torch.no_grad():\n",
    "\n",
    "        for batch in test_sample_dl:\n",
    "            batch_X, batch_y = batch\n",
    "\n",
    "            batch_X = batch_X.to(device)\n",
    "            batch_y = batch_y.to(device)\n",
    "\n",
    "            output = model(batch_X)\n",
    "            \n",
    "            #print(output)\n",
    "            rounded_preds = torch.round(output)\n",
    "            correct = (rounded_preds == batch_y).float()\n",
    "            acc = correct.sum() / len(correct)\n",
    "\n",
    "\n",
    "\n",
    "            loss = loss_fn(output, batch_y)\n",
    "            \n",
    "\n",
    "            test_loss += loss\n",
    "            num_correct += acc.item()\n",
    "\n",
    "\n",
    "# -- stats! -- ##\n",
    "# avg test loss\n",
    "print(\"Test loss: {:.3f}\".format(test_loss/len(test_sample_dl)))\n",
    "\n",
    "# accuracy over all test data\n",
    "test_acc = num_correct/len(test_sample_dl)\n",
    "print(\"Test accuracy: {:.3f}\".format(test_acc))\n"
   ]
  },
  {
   "cell_type": "markdown",
   "metadata": {},
   "source": [
    "In order to construct a PyTorch model using SageMaker we must provide SageMaker with a training script. We may optionally include a directory which will be copied to the container and from which our training code will be run. When the training container is executed it will check the uploaded directory (if there is one) for a `requirements.txt` file and install any required Python libraries, after which the training script will be run."
   ]
  },
  {
   "cell_type": "markdown",
   "metadata": {},
   "source": [
    "### (TODO) Training the model\n",
    "\n",
    "When a PyTorch model is constructed in SageMaker, an entry point must be specified. This is the Python file which will be executed when the model is trained. Inside of the `train` directory is a file called `train.py` which has been provided and which contains most of the necessary code to train our model. The only thing that is missing is the implementation of the `train()` method which you wrote earlier in this notebook.\n",
    "\n",
    "**TODO**: Copy the `train()` method written above and paste it into the `train/train.py` file where required.\n",
    "\n",
    "The way that SageMaker passes hyperparameters to the training script is by way of arguments. These arguments can then be parsed and used in the training script. To see how this is done take a look at the provided `train/train.py` file."
   ]
  },
  {
   "cell_type": "code",
   "execution_count": 0,
   "metadata": {},
   "outputs": [],
   "source": [
    "from sagemaker.pytorch import PyTorch\n",
    "\n",
    "estimator = PyTorch(entry_point=\"train.py\",\n",
    "                    source_dir=\"train\",\n",
    "                    role=role,\n",
    "                    framework_version='0.4.0',\n",
    "                    train_instance_count=1,\n",
    "                    train_instance_type='ml.m4.xlarge', #changed to ml.m4.xlarge\n",
    "                    hyperparameters={\n",
    "                        'epochs': 10,\n",
    "                        'hidden_dim': 200,\n",
    "                    })"
   ]
  },
  {
   "cell_type": "code",
   "execution_count": 0,
   "metadata": {},
   "outputs": [],
   "source": [
    "estimator.fit({'training': input_data})"
   ]
  },
  {
   "cell_type": "markdown",
   "metadata": {},
   "source": [
    "## Step 5: Testing the model\n",
    "\n",
    "As mentioned at the top of this notebook, we will be testing this model by first deploying it and then sending the testing data to the deployed endpoint. We will do this so that we can make sure that the deployed model is working correctly.\n",
    "\n",
    "## Step 6: Deploy the model for testing\n",
    "\n",
    "Now that we have trained our model, we would like to test it to see how it performs. Currently our model takes input of the form `review_length, review[500]` where `review[500]` is a sequence of `500` integers which describe the words present in the review, encoded using `word_dict`. Fortunately for us, SageMaker provides built-in inference code for models with simple inputs such as this.\n",
    "\n",
    "There is one thing that we need to provide, however, and that is a function which loads the saved model. This function must be called `model_fn()` and takes as its only parameter a path to the directory where the model artifacts are stored. This function must also be present in the python file which we specified as the entry point. In our case the model loading function has been provided and so no changes need to be made.\n",
    "\n",
    "**NOTE**: When the built-in inference code is run it must import the `model_fn()` method from the `train.py` file. This is why the training code is wrapped in a main guard ( ie, `if __name__ == '__main__':` )\n",
    "\n",
    "Since we don't need to change anything in the code that was uploaded during training, we can simply deploy the current model as-is.\n",
    "\n",
    "**NOTE:** When deploying a model you are asking SageMaker to launch an compute instance that will wait for data to be sent to it. As a result, this compute instance will continue to run until *you* shut it down. This is important to know since the cost of a deployed endpoint depends on how long it has been running for.\n",
    "\n",
    "In other words **If you are no longer using a deployed endpoint, shut it down!**\n",
    "\n",
    "**TODO:** Deploy the trained model."
   ]
  },
  {
   "cell_type": "code",
   "execution_count": 0,
   "metadata": {},
   "outputs": [],
   "source": [
    "# TODO: Deploy the trained model\n",
    "\n",
    "predictor = estimator.deploy(instance_type='ml.m4.xlarge', initial_instance_count=1)"
   ]
  },
  {
   "cell_type": "markdown",
   "metadata": {},
   "source": [
    "## Step 7 - Use the model for testing\n",
    "\n",
    "Once deployed, we can read in the test data and send it off to our deployed model to get some results. Once we collect all of the results we can determine how accurate our model is."
   ]
  },
  {
   "cell_type": "code",
   "execution_count": 65,
   "metadata": {},
   "outputs": [],
   "source": [
    "test_X = pd.concat([pd.DataFrame(test_X_len), pd.DataFrame(test_X)], axis=1)\n"
   ]
  },
  {
   "cell_type": "code",
   "execution_count": 0,
   "metadata": {},
   "outputs": [],
   "source": [
    "# We split the data into chunks and send each chunk seperately, accumulating the results.\n",
    "\n",
    "def predict(data, rows=512):\n",
    "    split_array = np.array_split(data, int(data.shape[0] / float(rows) + 1))\n",
    "    predictions = np.array([])\n",
    "    for array in split_array:\n",
    "        predictions = np.append(predictions, predictor.predict(array))\n",
    "    \n",
    "    return predictions"
   ]
  },
  {
   "cell_type": "code",
   "execution_count": 0,
   "metadata": {},
   "outputs": [],
   "source": [
    "predictions = predict(test_X.values)\n",
    "predictions = [round(num) for num in predictions]"
   ]
  },
  {
   "cell_type": "code",
   "execution_count": 0,
   "metadata": {},
   "outputs": [],
   "source": [
    "from sklearn.metrics import accuracy_score\n",
    "accuracy_score(test_y, predictions)"
   ]
  },
  {
   "cell_type": "markdown",
   "metadata": {},
   "source": [
    "**Question:** How does this model compare to the XGBoost model you created earlier? Why might these two models perform differently on this dataset? Which do *you* think is better for sentiment analysis?"
   ]
  },
  {
   "cell_type": "markdown",
   "metadata": {},
   "source": [
    "**Answer:**"
   ]
  },
  {
   "cell_type": "markdown",
   "metadata": {},
   "source": [
    "### (TODO) More testing\n",
    "\n",
    "We now have a trained model which has been deployed and which we can send processed reviews to and which returns the predicted sentiment. However, ultimately we would like to be able to send our model an unprocessed review. That is, we would like to send the review itself as a string. For example, suppose we wish to send the following review to our model."
   ]
  },
  {
   "cell_type": "code",
   "execution_count": 0,
   "metadata": {},
   "outputs": [],
   "source": [
    "test_review = 'The simplest pleasures in life are the best, and this film is one of them. Combining a rather basic storyline of love and adventure this movie transcends the usual weekend fair with wit and unmitigated charm.'"
   ]
  },
  {
   "cell_type": "markdown",
   "metadata": {},
   "source": [
    "The question we now need to answer is, how do we send this review to our model?\n",
    "\n",
    "Recall in the first section of this notebook we did a bunch of data processing to the IMDb dataset. In particular, we did two specific things to the provided reviews.\n",
    " - Removed any html tags and stemmed the input\n",
    " - Encoded the review as a sequence of integers using `word_dict`\n",
    " \n",
    "In order process the review we will need to repeat these two steps.\n",
    "\n",
    "**TODO**: Using the `review_to_words` and `convert_and_pad` methods from section one, convert `test_review` into a numpy array `test_data` suitable to send to our model. Remember that our model expects input of the form `review_length, review[500]`."
   ]
  },
  {
   "cell_type": "code",
   "execution_count": 165,
   "metadata": {},
   "outputs": [
    {
     "name": "stdout",
     "output_type": "stream",
     "text": "<built-in method type of Tensor object at 0x7f096f3da640>\ntorch.Size([1, 501])\n"
    }
   ],
   "source": [
    "# TODO: Convert test_review into a form usable by the model and save the results in test_data\n",
    "test_data = review_to_words(test_review)\n",
    "test_data, data_len = convert_and_pad(word_dict, test_data)\n",
    "\n",
    "#joining data_len to test_data (same data format as above)\n",
    "test_data = np.hstack((data_len, test_data))\n",
    "#reshape the data to fit the review_length, review[500] pattern\n",
    "test_data = test_data.reshape(1, -1)\n",
    "#convert to tensor object\n",
    "test_data = torch.from_numpy(test_data)\n",
    "\n",
    "#see the final data type and shape\n",
    "print(test_data.type)\n",
    "print(test_data.shape)\n"
   ]
  },
  {
   "cell_type": "markdown",
   "metadata": {},
   "source": [
    "Now that we have processed the review, we can send the resulting array to our model to predict the sentiment of the review."
   ]
  },
  {
   "cell_type": "code",
   "execution_count": 137,
   "metadata": {},
   "outputs": [
    {
     "ename": "NameError",
     "evalue": "name 'predictor' is not defined",
     "output_type": "error",
     "traceback": [
      "\u001b[0;31m---------------------------------------------------------------------------\u001b[0m",
      "\u001b[0;31mNameError\u001b[0m                                 Traceback (most recent call last)",
      "\u001b[0;32m<ipython-input-137-af5deff2d3fe>\u001b[0m in \u001b[0;36m<module>\u001b[0;34m\u001b[0m\n\u001b[0;32m----> 1\u001b[0;31m \u001b[0mpredictor\u001b[0m\u001b[0;34m.\u001b[0m\u001b[0mpredict\u001b[0m\u001b[0;34m(\u001b[0m\u001b[0mdata\u001b[0m\u001b[0;34m)\u001b[0m\u001b[0;34m\u001b[0m\u001b[0;34m\u001b[0m\u001b[0m\n\u001b[0m",
      "\u001b[0;31mNameError\u001b[0m: name 'predictor' is not defined"
     ]
    }
   ],
   "source": [
    "predictor.predict(test_data)"
   ]
  },
  {
   "cell_type": "markdown",
   "metadata": {},
   "source": [
    "Since the return value of our model is close to `1`, we can be certain that the review we submitted is positive."
   ]
  },
  {
   "cell_type": "markdown",
   "metadata": {},
   "source": [
    "### Delete the endpoint\n",
    "\n",
    "Of course, just like in the XGBoost notebook, once we've deployed an endpoint it continues to run until we tell it to shut down. Since we are done using our endpoint for now, we can delete it."
   ]
  },
  {
   "cell_type": "code",
   "execution_count": 0,
   "metadata": {},
   "outputs": [],
   "source": [
    "estimator.delete_endpoint()"
   ]
  },
  {
   "cell_type": "markdown",
   "metadata": {},
   "source": [
    "## Step 6 (again) - Deploy the model for the web app\n",
    "\n",
    "Now that we know that our model is working, it's time to create some custom inference code so that we can send the model a review which has not been processed and have it determine the sentiment of the review.\n",
    "\n",
    "As we saw above, by default the estimator which we created, when deployed, will use the entry script and directory which we provided when creating the model. However, since we now wish to accept a string as input and our model expects a processed review, we need to write some custom inference code.\n",
    "\n",
    "We will store the code that we write in the `serve` directory. Provided in this directory is the `model.py` file that we used to construct our model, a `utils.py` file which contains the `review_to_words` and `convert_and_pad` pre-processing functions which we used during the initial data processing, and `predict.py`, the file which will contain our custom inference code. Note also that `requirements.txt` is present which will tell SageMaker what Python libraries are required by our custom inference code.\n",
    "\n",
    "When deploying a PyTorch model in SageMaker, you are expected to provide four functions which the SageMaker inference container will use.\n",
    " - `model_fn`: This function is the same function that we used in the training script and it tells SageMaker how to load our model.\n",
    " - `input_fn`: This function receives the raw serialized input that has been sent to the model's endpoint and its job is to de-serialize and make the input available for the inference code.\n",
    " - `output_fn`: This function takes the output of the inference code and its job is to serialize this output and return it to the caller of the model's endpoint.\n",
    " - `predict_fn`: The heart of the inference script, this is where the actual prediction is done and is the function which you will need to complete.\n",
    "\n",
    "For the simple website that we are constructing during this project, the `input_fn` and `output_fn` methods are relatively straightforward. We only require being able to accept a string as input and we expect to return a single value as output. You might imagine though that in a more complex application the input or output may be image data or some other binary data which would require some effort to serialize.\n",
    "\n",
    "### (TODO) Writing inference code\n",
    "\n",
    "Before writing our custom inference code, we will begin by taking a look at the code which has been provided."
   ]
  },
  {
   "cell_type": "code",
   "execution_count": 2,
   "metadata": {},
   "outputs": [
    {
     "name": "stdout",
     "output_type": "stream",
     "text": "Error: cannot read infile: [Errno 2] No such file or directory: 'serve/predict.py'\n"
    }
   ],
   "source": [
    "!pygmentize serve/predict.py"
   ]
  },
  {
   "cell_type": "markdown",
   "metadata": {},
   "source": [
    "As mentioned earlier, the `model_fn` method is the same as the one provided in the training code and the `input_fn` and `output_fn` methods are very simple and your task will be to complete the `predict_fn` method. Make sure that you save the completed file as `predict.py` in the `serve` directory.\n",
    "\n",
    "**TODO**: Complete the `predict_fn()` method in the `serve/predict.py` file."
   ]
  },
  {
   "cell_type": "markdown",
   "metadata": {},
   "source": [
    "### Deploying the model\n",
    "\n",
    "Now that the custom inference code has been written, we will create and deploy our model. To begin with, we need to construct a new PyTorchModel object which points to the model artifacts created during training and also points to the inference code that we wish to use. Then we can call the deploy method to launch the deployment container.\n",
    "\n",
    "**NOTE**: The default behaviour for a deployed PyTorch model is to assume that any input passed to the predictor is a `numpy` array. In our case we want to send a string so we need to construct a simple wrapper around the `RealTimePredictor` class to accomodate simple strings. In a more complicated situation you may want to provide a serialization object, for example if you wanted to sent image data."
   ]
  },
  {
   "cell_type": "code",
   "execution_count": 0,
   "metadata": {},
   "outputs": [],
   "source": [
    "from sagemaker.predictor import RealTimePredictor\n",
    "from sagemaker.pytorch import PyTorchModel\n",
    "\n",
    "class StringPredictor(RealTimePredictor):\n",
    "    def __init__(self, endpoint_name, sagemaker_session):\n",
    "        super(StringPredictor, self).__init__(endpoint_name, sagemaker_session, content_type='text/plain')\n",
    "\n",
    "model = PyTorchModel(model_data=estimator.model_data,\n",
    "                     role = role,\n",
    "                     framework_version='0.4.0',\n",
    "                     entry_point='predict.py',\n",
    "                     source_dir='serve',\n",
    "                     predictor_cls=StringPredictor)\n",
    "predictor = model.deploy(initial_instance_count=1, instance_type='ml.m4.xlarge')"
   ]
  },
  {
   "cell_type": "markdown",
   "metadata": {},
   "source": [
    "### Testing the model\n",
    "\n",
    "Now that we have deployed our model with the custom inference code, we should test to see if everything is working. Here we test our model by loading the first `250` positive and negative reviews and send them to the endpoint, then collect the results. The reason for only sending some of the data is that the amount of time it takes for our model to process the input and then perform inference is quite long and so testing the entire data set would be prohibitive."
   ]
  },
  {
   "cell_type": "code",
   "execution_count": 0,
   "metadata": {},
   "outputs": [],
   "source": [
    "import glob\n",
    "\n",
    "def test_reviews(data_dir='../data/aclImdb', stop=250):\n",
    "    \n",
    "    results = []\n",
    "    ground = []\n",
    "    \n",
    "    # We make sure to test both positive and negative reviews    \n",
    "    for sentiment in ['pos', 'neg']:\n",
    "        \n",
    "        path = os.path.join(data_dir, 'test', sentiment, '*.txt')\n",
    "        files = glob.glob(path)\n",
    "        \n",
    "        files_read = 0\n",
    "        \n",
    "        print('Starting ', sentiment, ' files')\n",
    "        \n",
    "        # Iterate through the files and send them to the predictor\n",
    "        for f in files:\n",
    "            with open(f) as review:\n",
    "                # First, we store the ground truth (was the review positive or negative)\n",
    "                if sentiment == 'pos':\n",
    "                    ground.append(1)\n",
    "                else:\n",
    "                    ground.append(0)\n",
    "                # Read in the review and convert to 'utf-8' for transmission via HTTP\n",
    "                review_input = review.read().encode('utf-8')\n",
    "                # Send the review to the predictor and store the results\n",
    "                results.append(int(predictor.predict(review_input)))\n",
    "                \n",
    "            # Sending reviews to our endpoint one at a time takes a while so we\n",
    "            # only send a small number of reviews\n",
    "            files_read += 1\n",
    "            if files_read == stop:\n",
    "                break\n",
    "            \n",
    "    return ground, results"
   ]
  },
  {
   "cell_type": "code",
   "execution_count": 0,
   "metadata": {},
   "outputs": [],
   "source": [
    "ground, results = test_reviews()"
   ]
  },
  {
   "cell_type": "code",
   "execution_count": 0,
   "metadata": {},
   "outputs": [],
   "source": [
    "from sklearn.metrics import accuracy_score\n",
    "accuracy_score(ground, results)"
   ]
  },
  {
   "cell_type": "markdown",
   "metadata": {},
   "source": [
    "As an additional test, we can try sending the `test_review` that we looked at earlier."
   ]
  },
  {
   "cell_type": "code",
   "execution_count": 0,
   "metadata": {},
   "outputs": [],
   "source": [
    "predictor.predict(test_review)"
   ]
  },
  {
   "cell_type": "markdown",
   "metadata": {},
   "source": [
    "Now that we know our endpoint is working as expected, we can set up the web page that will interact with it. If you don't have time to finish the project now, make sure to skip down to the end of this notebook and shut down your endpoint. You can deploy it again when you come back."
   ]
  },
  {
   "cell_type": "markdown",
   "metadata": {},
   "source": [
    "## Step 7 (again): Use the model for the web app\n",
    "\n",
    "> **TODO:** This entire section and the next contain tasks for you to complete, mostly using the AWS console.\n",
    "\n",
    "So far we have been accessing our model endpoint by constructing a predictor object which uses the endpoint and then just using the predictor object to perform inference. What if we wanted to create a web app which accessed our model? The way things are set up currently makes that not possible since in order to access a SageMaker endpoint the app would first have to authenticate with AWS using an IAM role which included access to SageMaker endpoints. However, there is an easier way! We just need to use some additional AWS services.\n",
    "\n",
    "<img src=\"Web App Diagram.svg\">\n",
    "\n",
    "The diagram above gives an overview of how the various services will work together. On the far right is the model which we trained above and which is deployed using SageMaker. On the far left is our web app that collects a user's movie review, sends it off and expects a positive or negative sentiment in return.\n",
    "\n",
    "In the middle is where some of the magic happens. We will construct a Lambda function, which you can think of as a straightforward Python function that can be executed whenever a specified event occurs. We will give this function permission to send and recieve data from a SageMaker endpoint.\n",
    "\n",
    "Lastly, the method we will use to execute the Lambda function is a new endpoint that we will create using API Gateway. This endpoint will be a url that listens for data to be sent to it. Once it gets some data it will pass that data on to the Lambda function and then return whatever the Lambda function returns. Essentially it will act as an interface that lets our web app communicate with the Lambda function.\n",
    "\n",
    "### Setting up a Lambda function\n",
    "\n",
    "The first thing we are going to do is set up a Lambda function. This Lambda function will be executed whenever our public API has data sent to it. When it is executed it will receive the data, perform any sort of processing that is required, send the data (the review) to the SageMaker endpoint we've created and then return the result.\n",
    "\n",
    "#### Part A: Create an IAM Role for the Lambda function\n",
    "\n",
    "Since we want the Lambda function to call a SageMaker endpoint, we need to make sure that it has permission to do so. To do this, we will construct a role that we can later give the Lambda function.\n",
    "\n",
    "Using the AWS Console, navigate to the **IAM** page and click on **Roles**. Then, click on **Create role**. Make sure that the **AWS service** is the type of trusted entity selected and choose **Lambda** as the service that will use this role, then click **Next: Permissions**.\n",
    "\n",
    "In the search box type `sagemaker` and select the check box next to the **AmazonSageMakerFullAccess** policy. Then, click on **Next: Review**.\n",
    "\n",
    "Lastly, give this role a name. Make sure you use a name that you will remember later on, for example `LambdaSageMakerRole`. Then, click on **Create role**.\n",
    "\n",
    "#### Part B: Create a Lambda function\n",
    "\n",
    "Now it is time to actually create the Lambda function.\n",
    "\n",
    "Using the AWS Console, navigate to the AWS Lambda page and click on **Create a function**. When you get to the next page, make sure that **Author from scratch** is selected. Now, name your Lambda function, using a name that you will remember later on, for example `sentiment_analysis_func`. Make sure that the **Python 3.6** runtime is selected and then choose the role that you created in the previous part. Then, click on **Create Function**.\n",
    "\n",
    "On the next page you will see some information about the Lambda function you've just created. If you scroll down you should see an editor in which you can write the code that will be executed when your Lambda function is triggered. In our example, we will use the code below. \n",
    "\n",
    "```python\n",
    "# We need to use the low-level library to interact with SageMaker since the SageMaker API\n",
    "# is not available natively through Lambda.\n",
    "import boto3\n",
    "\n",
    "def lambda_handler(event, context):\n",
    "\n",
    "    # The SageMaker runtime is what allows us to invoke the endpoint that we've created.\n",
    "    runtime = boto3.Session().client('sagemaker-runtime')\n",
    "\n",
    "    # Now we use the SageMaker runtime to invoke our endpoint, sending the review we were given\n",
    "    response = runtime.invoke_endpoint(EndpointName = '**ENDPOINT NAME HERE**',    # The name of the endpoint we created\n",
    "                                       ContentType = 'text/plain',                 # The data format that is expected\n",
    "                                       Body = event['body'])                       # The actual review\n",
    "\n",
    "    # The response is an HTTP response whose body contains the result of our inference\n",
    "    result = response['Body'].read().decode('utf-8')\n",
    "\n",
    "    return {\n",
    "        'statusCode' : 200,\n",
    "        'headers' : { 'Content-Type' : 'text/plain', 'Access-Control-Allow-Origin' : '*' },\n",
    "        'body' : result\n",
    "    }\n",
    "```\n",
    "\n",
    "Once you have copy and pasted the code above into the Lambda code editor, replace the `**ENDPOINT NAME HERE**` portion with the name of the endpoint that we deployed earlier. You can determine the name of the endpoint using the code cell below."
   ]
  },
  {
   "cell_type": "code",
   "execution_count": 0,
   "metadata": {},
   "outputs": [],
   "source": [
    "predictor.endpoint"
   ]
  },
  {
   "cell_type": "markdown",
   "metadata": {},
   "source": [
    "Once you have added the endpoint name to the Lambda function, click on **Save**. Your Lambda function is now up and running. Next we need to create a way for our web app to execute the Lambda function.\n",
    "\n",
    "### Setting up API Gateway\n",
    "\n",
    "Now that our Lambda function is set up, it is time to create a new API using API Gateway that will trigger the Lambda function we have just created.\n",
    "\n",
    "Using AWS Console, navigate to **Amazon API Gateway** and then click on **Get started**.\n",
    "\n",
    "On the next page, make sure that **New API** is selected and give the new api a name, for example, `sentiment_analysis_api`. Then, click on **Create API**.\n",
    "\n",
    "Now we have created an API, however it doesn't currently do anything. What we want it to do is to trigger the Lambda function that we created earlier.\n",
    "\n",
    "Select the **Actions** dropdown menu and click **Create Method**. A new blank method will be created, select its dropdown menu and select **POST**, then click on the check mark beside it.\n",
    "\n",
    "For the integration point, make sure that **Lambda Function** is selected and click on the **Use Lambda Proxy integration**. This option makes sure that the data that is sent to the API is then sent directly to the Lambda function with no processing. It also means that the return value must be a proper response object as it will also not be processed by API Gateway.\n",
    "\n",
    "Type the name of the Lambda function you created earlier into the **Lambda Function** text entry box and then click on **Save**. Click on **OK** in the pop-up box that then appears, giving permission to API Gateway to invoke the Lambda function you created.\n",
    "\n",
    "The last step in creating the API Gateway is to select the **Actions** dropdown and click on **Deploy API**. You will need to create a new Deployment stage and name it anything you like, for example `prod`.\n",
    "\n",
    "You have now successfully set up a public API to access your SageMaker model. Make sure to copy or write down the URL provided to invoke your newly created public API as this will be needed in the next step. This URL can be found at the top of the page, highlighted in blue next to the text **Invoke URL**."
   ]
  },
  {
   "cell_type": "markdown",
   "metadata": {},
   "source": [
    "## Step 4: Deploying our web app\n",
    "\n",
    "Now that we have a publicly available API, we can start using it in a web app. For our purposes, we have provided a simple static html file which can make use of the public api you created earlier.\n",
    "\n",
    "In the `website` folder there should be a file called `index.html`. Download the file to your computer and open that file up in a text editor of your choice. There should be a line which contains **\\*\\*REPLACE WITH PUBLIC API URL\\*\\***. Replace this string with the url that you wrote down in the last step and then save the file.\n",
    "\n",
    "Now, if you open `index.html` on your local computer, your browser will behave as a local web server and you can use the provided site to interact with your SageMaker model.\n",
    "\n",
    "If you'd like to go further, you can host this html file anywhere you'd like, for example using github or hosting a static site on Amazon's S3. Once you have done this you can share the link with anyone you'd like and have them play with it too!\n",
    "\n",
    "> **Important Note** In order for the web app to communicate with the SageMaker endpoint, the endpoint has to actually be deployed and running. This means that you are paying for it. Make sure that the endpoint is running when you want to use the web app but that you shut it down when you don't need it, otherwise you will end up with a surprisingly large AWS bill.\n",
    "\n",
    "**TODO:** Make sure that you include the edited `index.html` file in your project submission."
   ]
  },
  {
   "cell_type": "markdown",
   "metadata": {},
   "source": [
    "Now that your web app is working, trying playing around with it and see how well it works.\n",
    "\n",
    "**Question**: Give an example of a review that you entered into your web app. What was the predicted sentiment of your example review?"
   ]
  },
  {
   "cell_type": "markdown",
   "metadata": {},
   "source": [
    "**Answer:**"
   ]
  },
  {
   "cell_type": "markdown",
   "metadata": {},
   "source": [
    "### Delete the endpoint\n",
    "\n",
    "Remember to always shut down your endpoint if you are no longer using it. You are charged for the length of time that the endpoint is running so if you forget and leave it on you could end up with an unexpectedly large bill."
   ]
  },
  {
   "cell_type": "code",
   "execution_count": 0,
   "metadata": {},
   "outputs": [],
   "source": [
    "predictor.delete_endpoint()"
   ]
  },
  {
   "cell_type": "code",
   "execution_count": null,
   "metadata": {},
   "outputs": [],
   "source": []
  }
 ],
 "metadata": {
  "kernelspec": {
   "display_name": "conda_pytorch_p36",
   "language": "python",
   "name": "conda_pytorch_p36"
  },
  "language_info": {
   "codemirror_mode": {
    "name": "ipython",
    "version": 3
   },
   "file_extension": ".py",
   "mimetype": "text/x-python",
   "name": "python",
   "nbconvert_exporter": "python",
   "pygments_lexer": "ipython3",
   "version": "3.7.4"
  }
 },
 "nbformat": 4,
 "nbformat_minor": 2
}